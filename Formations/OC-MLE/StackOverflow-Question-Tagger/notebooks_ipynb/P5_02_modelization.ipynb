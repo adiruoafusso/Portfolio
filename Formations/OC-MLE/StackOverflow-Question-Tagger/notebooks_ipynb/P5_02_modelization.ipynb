{
 "cells": [
  {
   "cell_type": "markdown",
   "metadata": {
    "id": "IPlaecjLdQUn"
   },
   "source": [
    "## Table of contents :\n",
    "* [I - Preprocessing](#first)\n",
    "    * [1 - Filter tokens by token length](#first_1)\n",
    "    * [2 - Filter questions with underpopulated classes](#first_2)\n",
    "    * [3 - Split training & testing sets (tags as target)](#first_3)\n",
    "* [II - Modelization](#second)\n",
    "    * [1 - Unsupervised method (TF-IDF + LDA)](#second_1)\n",
    "        * [1.1 - TF-IDF](#second_1_1)\n",
    "        * [1.2 - Topic Modeling (LDA)](#second_1_2)\n",
    "    * [2 - Supervised method (TF-IDF + SVM)](#second_2)\n",
    "        * [2.1 - Dummy Classifier](#second_2_1)\n",
    "        * [2.2 - Linear SVM](#second_2_2)\n",
    "    * [3 - Semi-supervised method (Word2Vec + GRU)](#second_3) \n",
    "        * [3.1 - Word2Vec](#second_3_1)\n",
    "        * [3.2 - GRU](#second_3_2)\n",
    "* [III - Hyperparameters optimization methods](#third)\n",
    "    * [1 - Grid search](#third_1)\n",
    "    * [2 - Bayesian optimization](#third_2)"
   ]
  },
  {
   "cell_type": "code",
   "execution_count": 1,
   "metadata": {
    "colab": {
     "base_uri": "https://localhost:8080/"
    },
    "id": "9YVQthhndQU0",
    "outputId": "681e2222-b40b-4c20-cf16-65f5d029acc7"
   },
   "outputs": [
    {
     "name": "stderr",
     "output_type": "stream",
     "text": [
      "/usr/local/lib/python3.6/dist-packages/fuzzywuzzy/fuzz.py:11: UserWarning: Using slow pure-python SequenceMatcher. Install python-Levenshtein to remove this warning\n",
      "  warnings.warn('Using slow pure-python SequenceMatcher. Install python-Levenshtein to remove this warning')\n",
      "/usr/local/lib/python3.6/dist-packages/spacy/util.py:271: UserWarning: [W031] Model 'en_core_web_sm' (2.2.5) requires spaCy v2.2 and is incompatible with the current spaCy version (2.3.0). This may lead to unexpected results or runtime errors. To resolve this, download a newer compatible model or retrain your custom model with the current spaCy version. For more details and available updates, run: python -m spacy validate\n",
      "  warnings.warn(warn_msg)\n",
      "/usr/local/lib/python3.6/dist-packages/statsmodels/tools/_testing.py:19: FutureWarning: pandas.util.testing is deprecated. Use the functions in the public API at pandas.testing instead.\n",
      "  import pandas.util.testing as tm\n"
     ]
    }
   ],
   "source": [
    "import sys\n",
    "sys.path.append(\"..\")\n",
    "# Preprocessing\n",
    "import itertools\n",
    "from scipy.sparse import hstack\n",
    "from sklearn.preprocessing import MultiLabelBinarizer\n",
    "from sklearn.model_selection import train_test_split\n",
    "from src.datacleaner import *   # Personal package named src\n",
    "#from src.preprocessor import *  # Data preprocessing\n",
    "from src.nlp.text_preprocessor import *  # Text data preprocessing\n",
    "# EDA\n",
    "from src.analyzer.univariate import *\n",
    "from src.analyzer.multivariate import *\n",
    "# Text classifiers\n",
    "from sklearn.multiclass import OneVsRestClassifier\n",
    "from sklearn.svm import LinearSVC\n",
    "from src.nlp.dnn import DNN\n",
    "from src.nlp.topic_modeling import TopicModeling\n",
    "# Model evaluation\n",
    "from keras.callbacks import ReduceLROnPlateau, EarlyStopping\n",
    "from src.nlp.text_classifier_evaluator import evaluate_text_classifier\n",
    "# from src.evaluator import *\n",
    "from utils.autotagger import *\n",
    "# import logging\n",
    "%matplotlib inline\n",
    "# logging.basicConfig(format='%(asctime)s : %(levelname)s : %(message)s', level=logging.INFO)"
   ]
  },
  {
   "cell_type": "code",
   "execution_count": 2,
   "metadata": {
    "colab": {
     "base_uri": "https://localhost:8080/"
    },
    "id": "e4SB1dNPdQVM",
    "outputId": "b2a2425a-2d73-4800-de93-9299ec7d78d6"
   },
   "outputs": [
    {
     "name": "stdout",
     "output_type": "stream",
     "text": [
      "Rows : 271 387\n",
      "Columns : 3\n"
     ]
    }
   ],
   "source": [
    "# Import modelization dataset \n",
    "df = pd.read_csv('data/csv/questions_modelization_dataset_413t.csv',\n",
    "                 converters={col: eval for col in ['QuestionTokens', 'Tags']})\n",
    "\n",
    "# Sample used to perform multiple tests to find optimal parameters with grid search\n",
    "# df = df.sample(frac=0.5, random_state=42)\n",
    "\n",
    "tokens_col = 'QuestionTokens'\n",
    "\n",
    "# Extract tags\n",
    "tags = list(set([tag for tags in df['Tags'] for tag in tags]))\n",
    "\n",
    "# Save tags\n",
    "# pickle_data(filename='tags',\n",
    "#             data=tags,\n",
    "#             folder='../data/preprocessing',\n",
    "#             method='w')\n",
    "\n",
    "# Dataset shape\n",
    "print('Rows : {0}\\nColumns : {1}'.format(read_int_cleaner(df.shape[0]), df.shape[1]))"
   ]
  },
  {
   "cell_type": "markdown",
   "metadata": {
    "id": "8XCkBlNfdQVe"
   },
   "source": [
    "# I - Preprocessing <a class=\"anchor\" id=\"first\"></a>"
   ]
  },
  {
   "cell_type": "markdown",
   "metadata": {
    "id": "t5xzULuLdQVi"
   },
   "source": [
    "## 1 - Filter tokens by token length <a class=\"anchor\" id=\"first_1\"></a>"
   ]
  },
  {
   "cell_type": "code",
   "execution_count": 3,
   "metadata": {
    "colab": {
     "base_uri": "https://localhost:8080/",
     "height": 81
    },
    "id": "SuDFWpD6dQVl",
    "outputId": "f458d77f-820d-456f-8d4a-2861dcda6f09"
   },
   "outputs": [
    {
     "data": {
      "text/html": [
       "<div>\n",
       "<style scoped>\n",
       "    .dataframe tbody tr th:only-of-type {\n",
       "        vertical-align: middle;\n",
       "    }\n",
       "\n",
       "    .dataframe tbody tr th {\n",
       "        vertical-align: top;\n",
       "    }\n",
       "\n",
       "    .dataframe thead th {\n",
       "        text-align: right;\n",
       "    }\n",
       "</style>\n",
       "<table border=\"1\" class=\"dataframe\">\n",
       "  <thead>\n",
       "    <tr style=\"text-align: right;\">\n",
       "      <th></th>\n",
       "      <th>count</th>\n",
       "      <th>mean</th>\n",
       "      <th>std</th>\n",
       "      <th>min</th>\n",
       "      <th>25%</th>\n",
       "      <th>50%</th>\n",
       "      <th>75%</th>\n",
       "      <th>max</th>\n",
       "    </tr>\n",
       "  </thead>\n",
       "  <tbody>\n",
       "    <tr>\n",
       "      <th>QuestionTokens</th>\n",
       "      <td>271387.0</td>\n",
       "      <td>6.241043</td>\n",
       "      <td>0.887698</td>\n",
       "      <td>1.448735</td>\n",
       "      <td>5.663471</td>\n",
       "      <td>6.116071</td>\n",
       "      <td>6.666667</td>\n",
       "      <td>45.761261</td>\n",
       "    </tr>\n",
       "  </tbody>\n",
       "</table>\n",
       "</div>"
      ],
      "text/plain": [
       "                   count      mean       std  ...       50%       75%        max\n",
       "QuestionTokens  271387.0  6.241043  0.887698  ...  6.116071  6.666667  45.761261\n",
       "\n",
       "[1 rows x 8 columns]"
      ]
     },
     "execution_count": 3,
     "metadata": {
      "tags": []
     },
     "output_type": "execute_result"
    }
   ],
   "source": [
    "# Tokens mean length descriptive statistics\n",
    "tokens_mean_length_df = df[tokens_col].map(lambda tokens: sum([len(token) for token in tokens])/len(tokens))\n",
    "tokens_mean_length_df.describe().to_frame().T"
   ]
  },
  {
   "cell_type": "code",
   "execution_count": 4,
   "metadata": {
    "colab": {
     "base_uri": "https://localhost:8080/"
    },
    "id": "CPtSGs5JdQV2",
    "outputId": "04ef95e5-6dd1-475c-da7c-fce8d393563a"
   },
   "outputs": [
    {
     "data": {
      "text/plain": [
       "['navbar',\n",
       " 'changes',\n",
       " 'alignment',\n",
       " 'page',\n",
       " 'content',\n",
       " 'toggled',\n",
       " 'website',\n",
       " 'developing',\n",
       " 'need',\n",
       " 'implement',\n",
       " 'navbar',\n",
       " 'placed',\n",
       " 'right',\n",
       " 'pushes',\n",
       " 'page',\n",
       " 'content',\n",
       " 'left',\n",
       " 'toggled',\n",
       " 'reveal',\n",
       " 'navbar',\n",
       " 'content',\n",
       " 'problem',\n",
       " 'glitch',\n",
       " 'toggle',\n",
       " 'clicked',\n",
       " 'close',\n",
       " 'navbar',\n",
       " 'pushes',\n",
       " 'entire',\n",
       " 'content',\n",
       " 'website',\n",
       " 'right',\n",
       " 'content',\n",
       " 'needs',\n",
       " 'toggle',\n",
       " 'clicked',\n",
       " 'code',\n",
       " 'doctype',\n",
       " 'lang',\n",
       " 'head',\n",
       " 'required',\n",
       " 'meta',\n",
       " 'tags',\n",
       " 'meta',\n",
       " 'charset',\n",
       " 'utf',\n",
       " 'meta',\n",
       " 'viewport',\n",
       " 'content',\n",
       " 'width',\n",
       " 'device',\n",
       " 'width',\n",
       " 'initial',\n",
       " 'scale',\n",
       " 'shrink',\n",
       " 'fit',\n",
       " 'bootstrap',\n",
       " 'link',\n",
       " 'rel',\n",
       " 'stylesheet',\n",
       " 'href',\n",
       " 'https',\n",
       " 'stackpath',\n",
       " 'bootstrapcdn',\n",
       " 'com',\n",
       " 'bootstrap',\n",
       " 'css',\n",
       " 'bootstrap',\n",
       " 'min',\n",
       " 'css',\n",
       " 'integrity',\n",
       " 'sha',\n",
       " 'ggoyrixcbmqvxipmamd',\n",
       " 'jcy',\n",
       " 'ijtquohcwrxjvorxtmzwt',\n",
       " 'crossorigin',\n",
       " 'anonymous',\n",
       " 'head',\n",
       " 'body',\n",
       " 'div',\n",
       " 'class',\n",
       " 'navbar',\n",
       " 'sticky',\n",
       " 'img',\n",
       " 'src',\n",
       " 'img',\n",
       " 'vamos',\n",
       " 'black',\n",
       " 'png',\n",
       " 'alt',\n",
       " 'width',\n",
       " 'class',\n",
       " 'block',\n",
       " 'block',\n",
       " 'href',\n",
       " 'void',\n",
       " 'class',\n",
       " 'menu',\n",
       " 'icon',\n",
       " 'div',\n",
       " 'menu',\n",
       " 'img',\n",
       " 'src',\n",
       " 'img',\n",
       " 'vamoslogo',\n",
       " 'png',\n",
       " 'alt',\n",
       " 'width',\n",
       " 'class',\n",
       " 'block',\n",
       " 'navbar',\n",
       " 'logo',\n",
       " 'href',\n",
       " 'home',\n",
       " 'href',\n",
       " 'work',\n",
       " 'href',\n",
       " 'contact',\n",
       " 'href',\n",
       " 'href',\n",
       " 'blog',\n",
       " 'div',\n",
       " 'div',\n",
       " 'class',\n",
       " 'container',\n",
       " 'div',\n",
       " 'div',\n",
       " 'optional',\n",
       " 'popper',\n",
       " 'bootstrap',\n",
       " 'script',\n",
       " 'src',\n",
       " 'https',\n",
       " 'code',\n",
       " 'jquery',\n",
       " 'com',\n",
       " 'jquery',\n",
       " 'slim',\n",
       " 'min',\n",
       " 'integrity',\n",
       " 'sha',\n",
       " 'dzortabkjstqiaqvgrvzpbzosmxkpyfrvh',\n",
       " 'abttepijizo',\n",
       " 'crossorigin',\n",
       " 'anonymous',\n",
       " 'script',\n",
       " 'script',\n",
       " 'src',\n",
       " 'https',\n",
       " 'cdnjs',\n",
       " 'cloudflare',\n",
       " 'com',\n",
       " 'ajax',\n",
       " 'libs',\n",
       " 'popper',\n",
       " 'umd',\n",
       " 'popper',\n",
       " 'min',\n",
       " 'integrity',\n",
       " 'sha',\n",
       " 'uoetcphqdsjqhjtykvphtphzwjwoclhtmgajdzwrnqqsfdihndzw',\n",
       " 'crossorigin',\n",
       " 'anonymous',\n",
       " 'script',\n",
       " 'script',\n",
       " 'src',\n",
       " 'https',\n",
       " 'stackpath',\n",
       " 'bootstrapcdn',\n",
       " 'com',\n",
       " 'bootstrap',\n",
       " 'bootstrap',\n",
       " 'min',\n",
       " 'integrity',\n",
       " 'sha',\n",
       " 'jjsmvgydppxbrribzuayoiiyorqvrjieaff',\n",
       " 'njgzixfdsfxxim',\n",
       " 'bjrm',\n",
       " 'crossorigin',\n",
       " 'anonymous',\n",
       " 'script',\n",
       " 'body',\n",
       " 'html',\n",
       " 'menu',\n",
       " 'padding',\n",
       " 'position',\n",
       " 'fixed',\n",
       " 'right',\n",
       " 'width',\n",
       " 'height',\n",
       " 'background',\n",
       " 'menu',\n",
       " 'margin',\n",
       " 'padding',\n",
       " 'menu',\n",
       " 'margin',\n",
       " 'list',\n",
       " 'style',\n",
       " 'display',\n",
       " 'block',\n",
       " 'line',\n",
       " 'height',\n",
       " 'menu',\n",
       " 'padding',\n",
       " 'text',\n",
       " 'align',\n",
       " 'right',\n",
       " 'color',\n",
       " 'font',\n",
       " 'size',\n",
       " 'font',\n",
       " 'weight',\n",
       " 'bold',\n",
       " 'display',\n",
       " 'block',\n",
       " 'text',\n",
       " 'decoration',\n",
       " 'webkit',\n",
       " 'transition',\n",
       " 'property',\n",
       " 'webkit',\n",
       " 'transition',\n",
       " 'duration',\n",
       " 'webkit',\n",
       " 'transition',\n",
       " 'timing',\n",
       " 'function',\n",
       " 'ease',\n",
       " 'moz',\n",
       " 'transition',\n",
       " 'property',\n",
       " 'moz',\n",
       " 'transition',\n",
       " 'duration',\n",
       " 'moz',\n",
       " 'transition',\n",
       " 'timing',\n",
       " 'function',\n",
       " 'ease',\n",
       " 'transition',\n",
       " 'property',\n",
       " 'transition',\n",
       " 'duration',\n",
       " 'transition',\n",
       " 'timing',\n",
       " 'function',\n",
       " 'ease',\n",
       " 'transition',\n",
       " 'property',\n",
       " 'transition',\n",
       " 'duration',\n",
       " 'transition',\n",
       " 'timing',\n",
       " 'function',\n",
       " 'ease',\n",
       " 'transition',\n",
       " 'property',\n",
       " 'transition',\n",
       " 'duration',\n",
       " 'transition',\n",
       " 'timing',\n",
       " 'function',\n",
       " 'ease',\n",
       " 'menu',\n",
       " 'hover',\n",
       " 'border',\n",
       " 'solid',\n",
       " 'menu',\n",
       " 'hover',\n",
       " 'color',\n",
       " 'menu',\n",
       " 'icon',\n",
       " 'index',\n",
       " 'margin',\n",
       " 'right',\n",
       " 'important',\n",
       " 'background',\n",
       " 'url',\n",
       " 'data',\n",
       " 'image',\n",
       " 'png',\n",
       " 'base',\n",
       " 'mjaxoswniwmlqxndowndomsswndowmdwvegwokvzglmeurhdgu',\n",
       " 'ciagicagicagidxbxatwvywrhdgfeyxrlpjiwmtktmdytmdjumtqmdqndermdqmdalhtcdpnzxrhzgfyurhdgu',\n",
       " 'ciagicagicagidxkyzpmbjtyxq',\n",
       " 'awhzuvcgnpckyzpmbjtyxq',\n",
       " 'ciagicagicagidxwagbnobaqsbjnbrlpjmlbobrvchvcdpdbxvckvzgu',\n",
       " 'ciagicagicagicagicagidxyzgybgkgcmrmonbhcnnlvhlwztiumvzbvyyuipgogicagicagicagicagicagicacrfdnqywnawupmnyzwfzwqlnrxzomfjdglvbjkicagicagicagicagicagicagphnrxzomlucrhbmnlsuq',\n",
       " 'egwlmlpzdoyognmnwenyymjmlwvingqtoguziywnkyjllodvmmdulnrxzomlucrhbmnlsuq',\n",
       " 'ciagicagicagicagicagicagidxzdevddpagvupjiwmtktmdytmdjumtindymjgrmdqmdalnrxzondozw',\n",
       " 'ciagicagicagicagicagicagidxzdevddpzbzdfyzufnzwpkfkbjlifbobrvchvccbdqyaymdeichxawkbdzktwvcrfdnqcmdhdhcmvbzvuddkicagicagicagicagicagpcyzgybgk',\n",
       " 'ciagicagicagicagidwvcmrmolnlctkicagicagicagpcbxbnttpiaxnbjpgogicagicagicadglmzjppcmllbnrhdglvbjxpcawzmokyawvudgfawupgogicagicagicadglmzjpyumvzbxdglvbjmjawmdavmtawmdalrpzmywfjlcsdxrpb',\n",
       " 'ciagicagicagidxawzmollszxnvbhvawupjcymdawmcxmdawmdwvdglmzjpzumvzbxdglvbjkicagicagicagphrpzmyumvzbxdglvblvuaxq',\n",
       " 'mjwvdglmzjpszxnvbhvawuvwpddkicagicagicagpgvawyqsbjtcgfjztntuzntwvzxhpzjpdbxvclnwywnlpgogicagicagicazxhpzjpqaxhlbfheawlbnnpb',\n",
       " 'njilvawyuglzwxyrgltzwzawupgogicagicagicazxhpzjpqaxhlbfleawlbnnpb',\n",
       " 'mtglvawyuglzwxzrgltzwzawupgogicagicaljkzjpezxnjcmlwdglvbjkicagpcyzgyukrgpgolgegwbwvytkicagicagicagicagicagicagicagicagicagicagicagicagicagicagicagicagicagicagicagicagicagicagicagicagicagicagicagicagicagicagicagicagicagiaogicagicagicagicagicagicagicagicagicagicagicagicagicagicagicagicagicagicagicagicagicagicagicagicagicagicagicagicagicagicagicagicagicagciagicagicagicagicagicagicagicagicagicagicagicagicagicagicagicagicagicagicagicagicagicagicagicagicagicagicagicagicagicagicagicagicagicakicagicagicagicagicagicagicagicagicagicagicagicagicagicagicagicagicagicagicagicagicagicagicagicagicagicagicagicagicagicagicagicagicagiaogicagicagicagicagicagicagicagicagicagicagicagicagicagicagicagicagicagicagicagicagicagicagicagicagicagicagicagicagicagicagicagicagicagciagicagicagicagicagicagicagicagicagicagicagicagicagicagicagicagicagicagicagicagicagicagicagicagicagicagicagicagicagicagicagicagicagicakicagicagicagicagicagicagicagicagicagicagicagicagicagicagicagicagicagicagicagicagicagicagicagicagicagicagicagicagicagicagicagicagicagiaogicagicagicagicagicagicagicagicagicagicagicagicagicagicagicagicagicagicagicagicagicagicagicagicagicagicagicagicagicagicagicagicagicagciagicagicagicagicagicagicagicagicagicagicagicagicagicagicagicagicagicagicagicagicagicagicagicagicagicagicagicagicagicagicagicagicagicakicagicagicagicagicagicagicagicagicagicagicagicagicagicagicagicagicagicagicagicagicagicagicagicagicagicagicagicagicagicagicagicagicagiaogicagicagicagicagicagicagicagicagicagicagicagicagicagicagicagicagicagicagicagicagicagicagicagicagicagicagicagicagicagicagicagicagicagciagicagicagicagicagicagicagicagicagicagicagicagicagicagicagicagicagicagicagicagicagicagicagicagicagicagicagicagicagicagicagicagicagicakicagicagicagicagicagicagicagicagicagicagicagicagicagicagicagicagicagicagicagicagicagicagicagicagicagicagicagicagicagicagicagicagicagiaogicagicagicagicagicagicagicagicagicagicagicagicagicagicagicagicagicagicagicagicagicagicagicagicagicagicagicagicagicagicagicagicagicagciagicagicagicagicagicagicagicagicagicagicagicagicagicagicagicagicagicagicagicagicagicagicagicagicagicagicagicagicagicagicagicagicagicakicagicagicagicagicagicagicagicagicagicagicagicagicagicagicagicagicagicagicagicagicagicagicagicagicagicagicagicagicagicagicagicagicagiaogicagicagicagicagicagicagicagicagicagicagicagicagicagicagicagicagicagicagicagicagicagicagicagicagicagicagicagicagicagicagicagicagicagciagicagicagicagicagicagicagicagicagicagicagicagicagicagicagicagicagicagicagicagicagicagicagicagicagicagicagicagicagicagicagicagicagicakicagicagicagicagicagicagicagicagicagicagicagicagicagicagicagicagicagicagicagicagicagicagicagicagicagicagicagicagicagicagicagicagicagiaogicagicagicagicagicagicagicagicagicagicagicagicagicagicagicagicagicagicagicagicagicagicagicagicagicagicagicagicagicagicagicagicagicagciagicagicagicagicagicagicagicagicagicagicagicagicagicagicagicagicagicagicagicagicagicagicagicagicagicagicagicagicagicagicagicagicagicakicagicagicagicagicagicagicagicagicagicagicagicagicagicagicagicagicagicagicagicagicagicagicagicagicagicagicagicagicagicagicagicagicagiaogicagicagicagicagicagicagicagicagicagicagicagicagicagicagicagicagicagicagicagicagicagicagicagicagicagicagicagicagicagicagicagicagicagciagicagicagicagicagicagicagicagicagicagicagicagicagicagicagicagicagicagicagicagicagicagicagicagicagicagicagicagicagicagicagicagicagicakicagicagicagicagicagicagicagicagicagicagicagicagicagicagicagicagicagicagicagicagicagicagicagicagicagicagicagicagicagicagicagicagicagiaogicagicagicagicagicagicagicagicagicagicagicagicagicagicagicagicagicagicagicagicagicagicagicagicagicagicagicagicagicagicagicagicagicagciagicagicagicagicagicagicagicagicagicagicagicagicagicagicagicagicagicagicagicagicagicagicagicagicagicagicagicagicagicagicagicagicagicakicagicagicagicagicagicagicagicagicagicagicagicagicagicagicagicagicagicagicagicagicagicagicagicagicagicagicagicagicagicagicagicagicagiaogicagicagicagicagicagicagicagicagicagicagicagicagicagicagicagicagicagicagicagicagicagicagicagicagicagicagicagicagicagicagicagicagicagciagicagicagicagicagicagicagicagicagicagicagicagicagicagicagicagicagicagicagicagicagicagicagicagicagicagicagicagicagicagicagicagicagicakicagicagicagicagicagicagicagicagicagicagicagicagicagicagicagicagicagicagicagicagicagicagicagicagicagicagicagicagicagicagicagicagicagiaogicagicagicagicagicagicagicagicagicagicagicagicagicagicagicagicagicagicagicagicagicagicagicagicagicagicagicagicagicagicagicagicagicagciagicagicagicagicagicagicagicagicagicagicagicagicagicagicagicagicagicagicagicagicagicagicagicagicagicagicagicagicagicagicagicagicagicakicagicagicagicagicagicagicagicagicagicagicagicagicagicagicagicagicagicagicagicagicagicagicagicagicagicagicagicagicagicagicagicagicagiaogicagicagicagicagicagicagicagicagicagicagicagicagicagicagicagicagicagicagicagicagicagicagicagicagicagicagicagicagicagicagicagicagicagciagicagicagicagicagicagicagicagicagicagicagicagicagicagicagicagicagicagicagicagicagicagicagicagicagicagicagicagicagicagicagicagicagicakicagicagicagicagicagicagicagicagicagicagicagicagicagicagicagicagicagicagicagicagicagicagicagicagicagicagicagicagicagicagicagicagicagiaogicagicagicagicagicagicagicagicagicagicagicagicagicagicagicagicagicagicagicagicagicagicagicagicagicagicagicagicagicagicagicagicagicagciagicagicagicagicagicagicagicagicagicagicagicagicagicagicagicagicagicagicagicagicagicagicagicagicagicagicagicagicagicagicagicagicagicakicagicagicagicagicagicagicagicagicagicagicagicagicagicagicagicagicagicagicagicagicagicagicagicagicagicagicagicagicagicagicagicagicagiaogicagicagicagicagicagicagicagicagicagicagicagicagicagicagicagicagicagicagicagicagicagicagicagicagicagicagicagicagicagicagicagicagicagciagicagicagicagicagicagicagicagicagicagicagicagicagicagicagicagicagicagicagicagicagicagicagicagicagicagicagicagicagicagicagicagicagicakicagicagicagicagicagicagicagicagicagicagicagicagicagicagicagicagicagicagicagicagicagicagicagicagicagicagicagicagicagicagicagicagicagiaogicagicagicagicagicagicagicagicagicagicagicagicagicagicagicagicagicagicagicagicagicagicagicagicagicagicagicagicagicagicagicagicagicagciagicagicagicagicagicagicagicagicagicagicagicagicagicagicagicagicagicagicagicagicagicagicagicagicagicagicagicagicagicagicagicagicagicakicagicagicagicagicagicagicagicagicagicagicagicagicagicagicagicagicagicagicagicagicagicagicagicagicagicagicagicagicagicagicagicagicagiaogicagicagicagicagicagicagicagicagicagicagicagicagicagicagicagicagicagicagicagicagicagicagicagicagicagicagicagicagicagicagicagicagicagciagicagicagicagicagicagicagicagicagicagicagicagicagicagicagicagicagicagicagicagicagicagicagicagicagicagicagicagicagicagicagicagicagicakicagicagicagicagicagicagicagicagicagicagicagicagicagicagicagicagicagicagicagicagicagicagicagicagicagicagicagicagicagicagicagicagicagiaogicagicagicagicagicagicagicagicagicagicagicagicagicagicagicagicagicagicagicagicagicagicagicagicagicagicagicagicagicagicagicagicagicagciagicagicagicagicagicagicagicagicagicagicagicagicagicagicagicagicagicagicagicagicagicagicagicagicagicagicagicagicagicagicagicagicagicakicagicagicagicagicagicagicagicagicagicagicagicagicagicagicagicagicagicagicagicagicagicagicagicagicagicagicagicagicagicagicagicagicagiaogicagicagicagicagicagicagicagicagicagicagicagicagicagicagicagicagicagicagicagicagicagicagicagicagicagicagicagicagicagicagicagicagicagciagicagicagicagicagicagicagicagicagicagicagicagicagicagicagicagicagicagicagicagicagicagicagicagicagicagicagicagicagicagicagicagicagicakicagicagicagicagicagicagicagicagicagicagicagicagicagicagicagicagicagicagicagicagicagicagicagicagicagicagicagicagicagicagicagicagicagiaogicagicagicagicagicagicagicagicagicagicagicagicagicagicagicagicagicagicagicagicagicagicagicagicagicagicagicagicagicagicagicagicagicagciagicagicagicagicagicagicagicagicagicagicagicagicagicagicagicagicagicagicagicagicagicagicagicagicagicagicagicagicagicagicagicagicagicakicagicagicagicagicagicagicagicagicagicagicagicagicagicagicagicagicagicagicagicagicagicagicagicagicagicagicagicagicagicagicagicagicagiaogicagicagicagicagicagicagicagicagicagicagicagicagicagicagicagicagicagicagicagicagicagicagicagicagicagicagicagicagicagicagicagicagicagciagicagicagicagicagicagicagicagicagicagicagicagicagicagicagicagicagicagicagicagicagicagicagicagicagicagicagicagicagicagicagicagicagicakicagicagicagicagicagicagicagicagicagicagicagicagicagicagicagicagicagicagicagicagicagicagicagicagicagicagicagicagicagicagicagicagicagiaogicagicagicagicagicagicagicagicagicagicagicagicagicagicagicagicagicagicagicagicagicagicagicagicagicagicagicagicagicagicagicagicagicagciagicagicagicagicagicagicagicagicagicagicagicagicagicagicagicagicagicagicagicagicagicagicagicagicagicagicagicagicagicagicagicagicagicakicagicagicagicagicagicagicagicagicagicagicagicagicagicagicagicagicagicagicagicagicagicagicagicagicagicagicagicagicagicagicagicagicagiaogicagicagicagicagicagicagicagicagicagicagicagicagicagicagicagicagicagicagicagicagicagicagicagicagicagicagicagicagicagicagicagicagicagciagicagicagicagicagicagicagicagicagicagicagicagicagicagicagicagicagicagicagicagicagicagicagicagicagicagicagicagicagicagicagicagicagicakicagicagicagicagicagicagicagicagicagicagicagicagicagicagicagicagicagicagicagicagicagicagicagicagicagicagicagicagicagicagicagicagicagiaogicagicagicagicagicagicagicagicagicagicagicagicagicagicagicagicagicagicagicagicagicagicagicagicagicagicagicagicagicagicagicagicagicagciagicagicagicagicagicagicagicagicagicagicagicagicagicagicagicagicagicagicagicagicagicagicagicagicagicagicagicagicagicagicagicagicagicakicagicagicagicagicagicagicagicagicagicagicagicagicagicagicagicagicagicagicagicagicagicagicagicagicagicagicagicagicagicagicagicagicagiaogicagicagicagicagicagicagicagicagicagicagicagicagicagicagicagicagicagicagicagicagicagicagicagicagicagicagicagicagicagicagicagicagicagciagicagicagicagicagicagicagicagicagicagicagicagicagicagicagicagicagicagicagicagicagicagicagicagicagicagicagicagicagicagicagicagicagicakicagicagicagicagicagicagicagicagicagicagicagicagicagicagicagicagicagicagicagicagicagicagicagicagicagicagicagicagicagicagicagicagicagiaogicagicagicagicagicagicagicagicagicagicagicagicagicagicagicagicagicagicagicagicagicagicagicagicagicagicagicagicagicagicagicagicagicagciagicagicagicagicagicagicagicagicagicagicagicagicagicagicagicagicagicagicagicagicagicagicagicagicagicagicagicagicagicagicagicagicagicakicagicagicagicagicagicagicagicagicagicagicagicagicagicagicagicagicagicagicagicagicagicagicagicagicagicagicagicagicagicagicagicagicagiaogicagicagicagicagicagicagicagicagicagicagicagicagicagicagicagicagicagicagicagicagicagicagicagicagicagicagicagicagicagicagicagicagicagciagicagicagicagicagicagicagicagicagicagicagicagicagicagicagicagicagicagicagicagicagicagicagicagicagicagicagicagicagicagicagicagicagicakicagicagicagicagicagicagicagicagicagicagicagicagicagicagicagicagicagicagicagicagicagicagicagicagicagicagicagicagicagicagicagicagicagiaogicagicagicagicagicagicagicagicagicagicagicagicagicagicagicagicagicagicagicagicagicagicagicagicagicagicagicagicagicagicagicagicagicagciagicagicagicagicagicagicagicagicagicagicagicagicagicagicagicagicagicagicagicagicagicagicagicagicagicagicagicagicagicagicagicagicagicakicagicagicagicagicagicagicagicagicagicagicagicagicagicagicagicagicagicagicagicagicagicagicagicagicagicagicagicagicagicagicagicagicagiaogicagicagicagicagicagicagicagicagicagicagicagicagicagicagicagicagicagicagicagicagicagicagicagicagicagicagicagicagicagicagicagicagicagciagicagicagicagicagicagicagicagicagicagicagicagicagicagicagicagicagicagicagicagicagicagicagicagicagicagicagicagicagicagicagicagicagicakicagicagicagicagicagicagicagicagicagicagicagicagicagicagicagicagicagicagicagicagicagicagicagicagicagicagicagicagicagicagicagicagicagiaogicagicagicagicagicagicagicagicagicagicagicagicagicagicagicagicagicagicagicagicagicagicagicagicagicagicagicagicagicagicagicagicagicagciagicagicagicagicagicagicagicagicagicagicagicagicagicagicagicagicagicagicagicagicagicagicagicagicagicagicagicagicagicagicagicagicagicakicagicagicagicagicagicagicagicagicagicagicagicagicagicagicagicagicagicagicagicagicagicagicagicagicagicagicagicagicagicagicagicagicagiaogicagicagicagicagicagicagicagicagicagicagicagicagicagicagicagicagicagicagicagicagicagicagicagicagicagicagicagicagicagicagicagicagicagciagicagicagicagicagicagicagicagicagicagicagicagicagicagicagicagicagicagicagicagicagicagicagicagicagicagicagicagicagicagicagicagicagicakicagicagicagicagicagicagicagicagicagicagicagicagicagicagicagicagicagicagicagicagicagicagicagicagicagicagicagicagicagicagicagicagicagiaogicagicagicagicagicagicagicagicagicagicagicagicagicagicagicagicagicagicagicagicagicagicagicagicagicagicagicagicagicagicagicagicagicagciagicagicagicagicagicagicagicagicagicagicagicagicagicagicagicagicagicagicagicagicagicagicagicagicagicagicagicagicagicagicagicagicagicakicagicagicagicagicagicagicagicagicagicagicagicagicagicagicagicagicagicagicagicagicagicagicagicagicagicagicagicagicagicagicagicagicagiaogicagicagicagicagicagicagicagicagicagicagicagicagicagicagicagicagicagicagicagicagicagicagicagicagicagicagicagicagicagicagicagicagicagciagicagicagicagicagicagicagicagicagicagicagicagicagicagicagicagicagicagicagicagicagicagicagicagicagicagicagicagicagicagicagicagicagicakicagicagicagicagicagicagicagicagicagicagicagicagicagicagicagicagicagicagicagicagicagicagicagicagicagicagicagicagicagicagicagicagicagiaogicagicagicagicagicagicagicagicagicagicagicagicagicagicagicagicagicagicagicagicagicagicagicagicagicagicagicagicagicagicagicagicagicagciagicagicagicagicagicagicagicagicagicagicagicagicagicagicagicagicagicagicagicagicagicagicagicagicagicagicagicagicagicagicagicagicagicakicagicagicagicagicagicagicagicagicagicagicagicagicagicagicagicagicagicagicagicagicagicagicagicagicagicagicagicagicagicagicagicagicagiaogicagicagicagicagicagicagicagicagicagicagicagicagicagicagicagicagicagicagicagicagicagicagicagicagicagicagicagicagicagicagicagicagicagciagicagicagicagicagicagicagicagicagicagicagicagicagicagicagicagicagicagicagicagicagicagicagicagicagicagicagicagicagicagicagicagicagicakicagicagicagicagicagicagicagicagicagicagicagicagicagicagicagicagicagicagicagicagicagicagicagicagicagicagicagicagicagicagicagicagicagiaogicagicagicagicagicagicagicagicagicagicagicagicagicagicagicagicagicagicagicagicagicagicagicagicagicagicagicagicagicagicagicagicagicagciagicagicagicagicagicagicagicagicagicagicagicagicagicagicagicagicagicagicagicagicagicagicagicagicagicagicagicagicagicagicagicagicagicakicagicagicagicagicagicagicagicagicagicagicagicagicagicagicagicagicagicagicagicagicagicagicagicagicagicagicagicagicagicagicagicagicagiaogicagicagicagicagicagicagicagicagicagicagicagicagicagicagicagicagicagicagicagicagicagicagicagicagicagicagicagicagicagicagicagicagicagciagicagicagicagicagicagicagicagicagicagicagicagicagicagicagicagicagicagicagicagicagicagicagicagicagicagicagicagicagicagicagicagicagicakicagicagicagicagicagicagicagicagicagicagicagicagicagicagicagicagicagicagicagicagicagicagicagicagicagicagicagicagicagicagicagicagicagiaogicagicagicagicagicagicagicagicagicagicagicagicagicagicagicagicagicagicagicagicagicagicagicagicagicagicagicagicagicagicagicagicagicagciagicagicagicagicagicagicagicagicagicagicagicagicagicagicagicagicagicagicagicagicagicagicagicagicagicagicagicagicagicagicagicagicagicakicagicagicagicagicagicagicagicagicagicagicagicagicagicagicagicagicagicagicagicagicagicagicagicagicagicagicagicagicagicagicagicagicagiaogicagicagicagicagicagicagicagicagicagicagicagicagicagicagicagicagicagicagicagicagicagicagicagicagicagicagicagicagicagicagicagicagicagciagicagicagicagicagicagicagicagicagicagicagicagicagicagicagicagicagicagicagicagicagicagicagicagicagicagicagicagicagicagicagicagicagicakicagicagicagicagicagicagicagicagicagicagicagicagicagicagicagicagicagicagicagicagicagicagicagicagicagicagicagicagicagicagicagicagicagiaogicagicagicagicagicagicagicagicagicagicagicagicagicagicagicagicagicagicagicagicagicagicagicagicagicagicagicagicagicagicagicagicagicagciagicagicagicagicagicagicagicagicagicagicagicagicagicagicagicagicagicagicagicagicagicagicagicagicagicagicagicagicagicagicagicagicagicakicagicagicagicagicagicagicagicagicagicagicagicagicagicagicagicagicagicagicagicagicagicagicagicagicagicagicagicagicagicagicagicagicagiaogicagicagicagicagicagicagicagicagicagicagicagicagicagicagicagicagicagicagicagicagicagicagicagicagicagicagicagicagicagicagicagicagicagciagicagicagicagicagicagicagicagicagicakpdcgfjavigvuzdidyi',\n",
       " 'vok',\n",
       " 'dqlnvaexojwwku',\n",
       " 'hvaltzbnrhjxxddcloywgihc',\n",
       " 'llgfyzvlffmxrpcjonzurtcwwpsljepfrwerqgkivrijmumdj',\n",
       " 'xjejhpurtojdpifmhps',\n",
       " 'qjql',\n",
       " 'ubxmqhjkt',\n",
       " 'axoxiavbnvpwncednpsbgscudhpsaowgfh',\n",
       " 'ctgwxnydhergfxlqhziibhzjjcvblwvvwnjslpimzglcmqqvgwynpaemavk',\n",
       " 'uvtboclawr',\n",
       " 'dbxurvfkgp',\n",
       " 'ebeaontkayfuvphlhd',\n",
       " 'xapg',\n",
       " 'kvpglwzozgscxfdfgwiwajbyxpxeyifnojhvuzwlubjontehgvbrnyqwhxtpvncqoxxtfwwvjvnxcafrxvsq',\n",
       " 'vmpiopetjzwmuellgozkdvxpypnbdotvdpmkrhdujbk',\n",
       " 'srxj',\n",
       " 'mtazppyriyrloeaqroaioi',\n",
       " 'vanphtjxtpdvwcayrms',\n",
       " 'repeat',\n",
       " 'margin',\n",
       " 'width',\n",
       " 'height',\n",
       " 'display',\n",
       " 'flex',\n",
       " 'margin',\n",
       " 'left',\n",
       " 'auto',\n",
       " 'adds',\n",
       " 'white',\n",
       " 'background',\n",
       " 'navbar',\n",
       " 'scrolled',\n",
       " 'var',\n",
       " 'header',\n",
       " 'navbar',\n",
       " 'window',\n",
       " 'scroll',\n",
       " 'var',\n",
       " 'scroll',\n",
       " 'window',\n",
       " 'scrolltop',\n",
       " 'scroll',\n",
       " 'header',\n",
       " 'addclass',\n",
       " 'scrolled',\n",
       " 'header',\n",
       " 'removeclass',\n",
       " 'scrolled',\n",
       " 'content',\n",
       " 'pushed',\n",
       " 'left',\n",
       " 'menu',\n",
       " 'css',\n",
       " 'right',\n",
       " 'menu',\n",
       " 'icon',\n",
       " 'click',\n",
       " 'menu',\n",
       " 'icon',\n",
       " 'hasclass',\n",
       " 'open',\n",
       " 'removeclass',\n",
       " 'open',\n",
       " 'animate',\n",
       " 'right',\n",
       " 'background',\n",
       " 'position',\n",
       " 'menu',\n",
       " 'animate',\n",
       " 'right',\n",
       " 'body',\n",
       " 'css',\n",
       " 'position',\n",
       " 'absolute',\n",
       " 'body',\n",
       " 'animate',\n",
       " 'right',\n",
       " 'index',\n",
       " 'addclass',\n",
       " 'open',\n",
       " 'animate',\n",
       " 'right',\n",
       " 'background',\n",
       " 'position',\n",
       " 'menu',\n",
       " 'animate',\n",
       " 'right',\n",
       " 'body',\n",
       " 'css',\n",
       " 'position',\n",
       " 'absolute',\n",
       " 'body',\n",
       " 'animate',\n",
       " 'right',\n",
       " 'index',\n",
       " 'tried',\n",
       " 'changed',\n",
       " 'bit',\n",
       " 'closing',\n",
       " 'code',\n",
       " 'think',\n",
       " 'right',\n",
       " 'way',\n",
       " 'implement',\n",
       " 'changed',\n",
       " 'right',\n",
       " 'spacing',\n",
       " 'menu',\n",
       " 'animate',\n",
       " 'right',\n",
       " 'body',\n",
       " 'css',\n",
       " 'position',\n",
       " 'absolute',\n",
       " 'body',\n",
       " 'animate',\n",
       " 'right',\n",
       " 'index',\n",
       " 'fix',\n",
       " 'navbar',\n",
       " 'alignment',\n",
       " 'ideas',\n",
       " 'fix',\n",
       " 'posted',\n",
       " 'code',\n",
       " 'codepen',\n",
       " 'https',\n",
       " 'codepen',\n",
       " 'anon',\n",
       " 'pen',\n",
       " 'qgwpag',\n",
       " 'animation',\n",
       " 'go',\n",
       " 'html',\n",
       " 'html',\n",
       " 'html',\n",
       " 'css',\n",
       " 'javascript',\n",
       " 'text',\n",
       " 'text',\n",
       " 'javascript',\n",
       " 'jquery',\n",
       " 'css',\n",
       " 'function',\n",
       " 'function',\n",
       " 'animation',\n",
       " 'function',\n",
       " 'animation']"
      ]
     },
     "execution_count": 4,
     "metadata": {
      "tags": []
     },
     "output_type": "execute_result"
    }
   ],
   "source": [
    "# Display outliers\n",
    "outlier_thr = np.floor(tokens_mean_length_df.describe().to_frame().T['max']).iloc[0]\n",
    "df[tokens_mean_length_df > outlier_thr].QuestionTokens.iloc[0]"
   ]
  },
  {
   "cell_type": "code",
   "execution_count": 5,
   "metadata": {
    "colab": {
     "base_uri": "https://localhost:8080/",
     "height": 81
    },
    "id": "uqLmygX7dQV_",
    "outputId": "3b51f6cd-8878-4a76-9d27-50ef4facd9db"
   },
   "outputs": [
    {
     "data": {
      "text/html": [
       "<div>\n",
       "<style scoped>\n",
       "    .dataframe tbody tr th:only-of-type {\n",
       "        vertical-align: middle;\n",
       "    }\n",
       "\n",
       "    .dataframe tbody tr th {\n",
       "        vertical-align: top;\n",
       "    }\n",
       "\n",
       "    .dataframe thead th {\n",
       "        text-align: right;\n",
       "    }\n",
       "</style>\n",
       "<table border=\"1\" class=\"dataframe\">\n",
       "  <thead>\n",
       "    <tr style=\"text-align: right;\">\n",
       "      <th></th>\n",
       "      <th>count</th>\n",
       "      <th>mean</th>\n",
       "      <th>std</th>\n",
       "      <th>min</th>\n",
       "      <th>25%</th>\n",
       "      <th>50%</th>\n",
       "      <th>75%</th>\n",
       "      <th>max</th>\n",
       "    </tr>\n",
       "  </thead>\n",
       "  <tbody>\n",
       "    <tr>\n",
       "      <th>Length</th>\n",
       "      <td>413</td>\n",
       "      <td>8</td>\n",
       "      <td>4</td>\n",
       "      <td>1</td>\n",
       "      <td>5</td>\n",
       "      <td>7</td>\n",
       "      <td>11</td>\n",
       "      <td>26</td>\n",
       "    </tr>\n",
       "  </tbody>\n",
       "</table>\n",
       "</div>"
      ],
      "text/plain": [
       "        count  mean  std  min  25%  50%  75%  max\n",
       "Length    413     8    4    1    5    7   11   26"
      ]
     },
     "execution_count": 5,
     "metadata": {
      "tags": []
     },
     "output_type": "execute_result"
    }
   ],
   "source": [
    "# Tag length descriptive statistics \n",
    "tags_df = pd.DataFrame({'Tags': tags, 'Length': [len(tag) for tag in tags]})\n",
    "tags_df.describe().T.astype(int)"
   ]
  },
  {
   "cell_type": "code",
   "execution_count": 6,
   "metadata": {
    "id": "D_6B4i5LdQWK"
   },
   "outputs": [],
   "source": [
    "# Filtering tokens that are longer than the longest tag (outliers)\n",
    "tags_max_length = tags_df.Length.max()\n",
    "df[tokens_col] = df[tokens_col].map(lambda tokens: [token for token in tokens if len(token) <= tags_max_length])"
   ]
  },
  {
   "cell_type": "markdown",
   "metadata": {
    "id": "u9JQjlHTdQWS"
   },
   "source": [
    "## 2 - Filter questions with underpopulated classes <a class=\"anchor\" id=\"first_2\"></a>"
   ]
  },
  {
   "cell_type": "code",
   "execution_count": 7,
   "metadata": {
    "colab": {
     "base_uri": "https://localhost:8080/"
    },
    "id": "7tegodHTdQWT",
    "outputId": "ffca8a37-cf2a-4a55-fb41-24bd606d6f5e"
   },
   "outputs": [
    {
     "name": "stdout",
     "output_type": "stream",
     "text": [
      "Dataframe rows reduced by 9.5 % (271387 -> 245687)\n",
      "CPU times: user 7min 40s, sys: 44.8 ms, total: 7min 41s\n",
      "Wall time: 7min 41s\n"
     ]
    }
   ],
   "source": [
    "%%time\n",
    "\n",
    "# Keep current dataframe state (rows count)\n",
    "original_rows_count = df.shape[0]\n",
    "# Filter questions which have underpopulated classes\n",
    "df = filter_underpopulated_classes(df, 'Tags')\n",
    "# Estimate data loss\n",
    "get_data_loss(df, original_rows_count)"
   ]
  },
  {
   "cell_type": "code",
   "execution_count": 8,
   "metadata": {
    "colab": {
     "base_uri": "https://localhost:8080/"
    },
    "id": "Qv2l1-vqdQWb",
    "outputId": "364a4b39-eb08-4dee-f05f-574794d5da3e"
   },
   "outputs": [
    {
     "name": "stdout",
     "output_type": "stream",
     "text": [
      "Vocabulary Size :\n",
      "\n",
      "- Total = 29 114 093 words\n",
      "\n",
      "- Unique = 604 670 words\n",
      "- Total tags in corpus = 3 197 011 words\n"
     ]
    }
   ],
   "source": [
    "# Get vocabulary size (total & unique counts)\n",
    "main_vocabulary = [token for tokens in df[tokens_col] for token in tokens]\n",
    "vocabulary_size = len(main_vocabulary)\n",
    "vocabulary_set_size = len(set(main_vocabulary))\n",
    "print('Vocabulary Size :\\n')\n",
    "print(f'- Total = {read_int_cleaner(vocabulary_size)} words\\n')\n",
    "print(f'- Unique = {read_int_cleaner(vocabulary_set_size)} words')\n",
    "print(f'- Total tags in corpus = {read_int_cleaner(len([w for w in main_vocabulary if w in tags]))} words')"
   ]
  },
  {
   "cell_type": "markdown",
   "metadata": {
    "id": "xFqeBbENdQWm"
   },
   "source": [
    "## 3 - Split training & testing sets (tags as target) <a class=\"anchor\" id=\"first_3\"></a>"
   ]
  },
  {
   "cell_type": "code",
   "execution_count": 9,
   "metadata": {
    "colab": {
     "base_uri": "https://localhost:8080/"
    },
    "id": "gwlYOXFGdQWm",
    "outputId": "c62a9a45-c2d9-40ef-d9d4-d5e1e0b30081"
   },
   "outputs": [
    {
     "name": "stdout",
     "output_type": "stream",
     "text": [
      "Training set : 196 549 rows\n",
      "\n",
      "Testing set : 49 138 rows\n"
     ]
    }
   ],
   "source": [
    "# Transform tags (list of keywords) as multi label binarized numpy array\n",
    "multilabel_encoder = MultiLabelBinarizer(sparse_output=False)\n",
    "target = multilabel_encoder.fit_transform(df['Tags'])\n",
    "\n",
    "# Save multi label binarized instance\n",
    "# pickle_data(filename='multilabel_encoder',\n",
    "#             data=multilabel_encoder,\n",
    "#             folder='../data/preprocessing',\n",
    "#             method='w')\n",
    "\n",
    "# Split training & testing sets\n",
    "X_train, X_test, y_train, y_test = train_test_split(df[tokens_col],\n",
    "                                                    target,\n",
    "                                                    test_size=0.2,\n",
    "                                                    random_state=42,\n",
    "                                                    stratify=target) # Stratify K tags (target)\n",
    "\n",
    "print('Training set : {} rows\\n'.format(read_int_cleaner(X_train.shape[0])))\n",
    "print(\"Testing set : {} rows\".format(read_int_cleaner(X_test.shape[0])))"
   ]
  },
  {
   "cell_type": "markdown",
   "metadata": {
    "id": "3r3-CpKIdQWt"
   },
   "source": [
    "# II - Modelization <a class=\"anchor\" id=\"second\"></a>"
   ]
  },
  {
   "cell_type": "markdown",
   "metadata": {
    "id": "GUkUM9gRdQWw"
   },
   "source": [
    "## 1 - Unsupervised method (TF-IDF + LDA) <a class=\"anchor\" id=\"second_1\"></a>"
   ]
  },
  {
   "cell_type": "markdown",
   "metadata": {
    "id": "ahJEZJRjdQWx"
   },
   "source": [
    "### 1.1 - TF-IDF <a class=\"anchor\" id=\"second_1_1\"></a>"
   ]
  },
  {
   "cell_type": "code",
   "execution_count": 10,
   "metadata": {
    "id": "J6DizOvidQWy"
   },
   "outputs": [],
   "source": [
    "# Main data\n",
    "input_data = {'train': X_train,\n",
    "              'test': X_test}\n",
    "\n",
    "# identity tokenizer\n",
    "def identity_tokenizer(token): return token\n",
    "\n",
    "# unigram TF-IDF parameters\n",
    "unigram_tfidf_params = {'tokenizer': identity_tokenizer, \n",
    "                        'stop_words': None,\n",
    "                        'lowercase': False,\n",
    "                        'token_pattern': r\"(?u)\\S\\S+\", # keep tag pattern (c++, python-3.7 etc ...)\n",
    "                        'max_features': round(vocabulary_set_size*0.1), # 379 915 words\n",
    "                        'max_df': 1.0,\n",
    "                        'min_df': 0.0}\n",
    "\n",
    "# # trigrams TF-IDF parameters\n",
    "# trigrams_tfidf_params = {'tokenizer': identity_tokenizer,\n",
    "#                          'stop_words': None,\n",
    "#                          'lowercase': False,\n",
    "#                          'token_pattern': r\"(?u)\\S\\S+\", # keep tag pattern (c++, python-3.7 etc ...)\n",
    "#                          'ngram_range': (3, 3),\n",
    "#                          'max_features': round(379915*0.28),\n",
    "#                          'max_df': 1.0,\n",
    "#                          'min_df': 0.0}\n",
    "\n",
    "\n",
    "# Train unigram TF-IDF \n",
    "X_unigram_tfidf_train, X_unigram_tfidf_test, unigram_tfidf = text_vectorizer(input_data,\n",
    "                                                                             unigram_tfidf_params,\n",
    "                                                                             vectorizer_type='tfidf',\n",
    "                                                                             return_model=True)\n",
    "# Train trigrams TF-IDF \n",
    "# X_trigrams_tfidf_train, X_trigrams_tfidf_test, trigrams_tfidf = text_vectorizer(input_data,\n",
    "#                                                                                 trigrams_tfidf_params,\n",
    "#                                                                                 vectorizer_type='tfidf',\n",
    "#                                                                                 return_model=True)\n",
    "\n",
    "# Stack TF-IDF vectorizers (unigram & trigrams) training & testing outputs\n",
    "X_train_vectorized = X_unigram_tfidf_train # hstack((X_unigram_tfidf_train, X_trigrams_tfidf_train)).tocsr()\n",
    "X_test_vectorized = X_unigram_tfidf_test # hstack((X_unigram_tfidf_test, X_trigrams_tfidf_test)).tocsr()\n",
    "\n",
    "# Save unigram & trigrams TF-IDF models\n",
    "pickle_data(filename='tfidf_vectorizer',\n",
    "            data=unigram_tfidf, # [unigram_tfidf, trigrams_tfidf],\n",
    "            folder='data/models')"
   ]
  },
  {
   "cell_type": "markdown",
   "metadata": {
    "id": "xTkf8iTVdQW6"
   },
   "source": [
    "### 1.2 - Topic Modeling (LDA) <a class=\"anchor\" id=\"second_1_2\"></a>"
   ]
  },
  {
   "cell_type": "markdown",
   "metadata": {
    "id": "CnFCAj_UdQW7"
   },
   "source": [
    "#### 1.2.1 - Find optimal number of topics"
   ]
  },
  {
   "cell_type": "code",
   "execution_count": 11,
   "metadata": {
    "colab": {
     "base_uri": "https://localhost:8080/",
     "height": 318
    },
    "id": "4OBeseP1dQW8",
    "outputId": "27aa2022-f2e8-4bc9-8988-59f5855adf74"
   },
   "outputs": [
    {
     "data": {
      "image/png": "[encoded data removed]",
      "text/plain": [
       "<Figure size 432x288 with 1 Axes>"
      ]
     },
     "metadata": {
      "needs_background": "light",
      "tags": []
     },
     "output_type": "display_data"
    },
    {
     "name": "stdout",
     "output_type": "stream",
     "text": [
      "CPU times: user 31min 23s, sys: 13.2 s, total: 31min 36s\n",
      "Wall time: 31min 29s\n"
     ]
    }
   ],
   "source": [
    "%%time \n",
    "\n",
    "# e.g. : https://scikit-learn.org/stable/modules/generated/sklearn.decomposition.LatentDirichletAllocation.html\n",
    "\n",
    "lda_params = {'max_iter': 5,\n",
    "              'learning_method': 'online',\n",
    "              'learning_offset': 50.,\n",
    "              'random_state': 42}\n",
    "\n",
    "tm = TopicModeling('lda', lda_params, module_type='sklearn')\n",
    "\n",
    "tm.plot_optimal_topic_number(X_train_vectorized,\n",
    "                             X_test_vectorized,\n",
    "                             max_topics=25,\n",
    "                             metric='perplexity',\n",
    "                             step=5,\n",
    "                             tokens=X_train,\n",
    "                             vectorizer=unigram_tfidf) # [unigram_tfidf, trigrams_tfidf]"
   ]
  },
  {
   "cell_type": "markdown",
   "metadata": {
    "id": "Ljx3sPXKdQXE"
   },
   "source": [
    "#### 1.2.2 - Train LDA"
   ]
  },
  {
   "cell_type": "code",
   "execution_count": 12,
   "metadata": {
    "colab": {
     "base_uri": "https://localhost:8080/"
    },
    "id": "CG0fj0JHzDjQ",
    "outputId": "cb0d1ee7-9345-4da8-a0e4-7ef40aa26ea5"
   },
   "outputs": [
    {
     "name": "stdout",
     "output_type": "stream",
     "text": [
      "CPU times: user 4min 34s, sys: 638 ms, total: 4min 35s\n",
      "Wall time: 4min 35s\n"
     ]
    }
   ],
   "source": [
    "%%time\n",
    "\n",
    "\n",
    "lda_params['n_components'] = tm.optimal_topic_number\n",
    "\n",
    "tm = TopicModeling('lda',\n",
    "                   lda_params,\n",
    "                   module_type='sklearn')\n",
    "\n",
    "tm.fit(X_train_vectorized)"
   ]
  },
  {
   "cell_type": "code",
   "execution_count": 13,
   "metadata": {
    "colab": {
     "base_uri": "https://localhost:8080/",
     "height": 861
    },
    "id": "wtOLZwlY1j2a",
    "outputId": "71fce834-665f-4b2a-bc25-16fa843082e4"
   },
   "outputs": [
    {
     "data": {
      "text/html": [
       "\n",
       "<link rel=\"stylesheet\" type=\"text/css\" href=\"https://cdn.rawgit.com/bmabey/pyLDAvis/files/ldavis.v1.0.0.css\">\n",
       "\n",
       "\n",
       "<div id=\"ldavis_el8721401516745281769524201704\"></div>\n",
       "<script type=\"text/javascript\">\n",
       "\n",
       "var ldavis_el8721401516745281769524201704_data = {\"mdsDat\": {\"x\": [-0.16194448506171027, -0.1993543515393172, -0.13941669084131383, 0.2369091615049552, 0.2638063659373861], \"y\": [-0.03101824320424922, 0.08001300349911175, -0.04590992368094957, -0.19856698928381877, 0.19548215266990587], \"topics\": [1, 2, 3, 4, 5], \"cluster\": [1, 1, 1, 1, 1], \"Freq\": [43.257743002955145, 22.32622436508169, 21.829888139746288, 7.21593852503659, 5.370205967180281]}, \"tinfo\": {\"Term\": [\"java\", \"div\", \"public\", \"android\", \"class\", \"button\", \"docker\", \"column\", \"dataframe\", \"org\", \"std\", \"git\", \"char\", \"aws\", \"install\", \"err\", \"django\", \"cout\", \"branch\", \"printf\", \"laravel\", \"c++\", \"foo\", \"request\", \"directory\", \"client\", \"server\", \"json\", \"file\", \"files\", \"error\", \"user\", \"api\", \"int\", \"type\", \"string\", \"function\", \"use\", \"code\", \"return\", \"data\", \"dataframe\", \"pandas\", \"nan\", \"plot\", \"numpy\", \"plt\", \"train\", \"keras\", \"tensorflow\", \"groupby\", \"matrix\", \"sum\", \"month\", \"columns\", \"column\", \"date\", \"rows\", \"range\", \"values\", \"c\", \"array\", \"list\", \"data\", \"row\", \"value\", \"like\", \"div\", \"height\", \"span\", \"img\", \"icon\", \"font\", \"widget\", \"mat\", \"border\", \"btn\", \"button\", \"width\", \"style\", \"css\", \"component\", \"color\", \"react\", \"click\", \"text\", \"image\", \"class\", \"view\", \"spring\", \"kotlin\", \"gradle\", \"jar\", \"observable\", \"maven\", \"springframework\", \"groupid\", \"artifactid\", \"junit\", \"arraylist\", \"java\", \"boot\", \"org\", \"public\", \"android\", \"private\", \"class\", \"string\", \"kubernetes\", \"pod\", \"certificate\", \"mov\", \"aspnetcore\", \"kubectl\", \"pods\", \"ansible\", \"vertex\", \"helm\", \"docker\", \"cluster\", \"services\", \"city\", \"nginx\", \"microsoft\", \"vec\", \"container\"], \"Freq\": [1535.0, 2485.0, 1944.0, 1514.0, 3054.0, 1414.0, 689.0, 1690.0, 1134.0, 767.0, 965.3443147164643, 518.2010476210862, 531.2906573973255, 428.2219301838129, 422.49460479960277, 415.24908905428197, 379.0214731007389, 289.7101722965587, 283.78886062166225, 277.8080971358306, 302.10832210900224, 289.4654383154099, 880.2784435090572, 961.9658855072099, 425.63845467122684, 662.2842918513792, 916.9452466261693, 1111.9350299760085, 2043.9704930937694, 845.2988542016658, 1700.0547461486985, 1469.9884745373893, 904.8351955553962, 1401.0966240651494, 1454.6837386718166, 1669.9383437629508, 1448.3595240162051, 1227.0406104951637, 1326.1266212430005, 1241.054218165577, 1257.7708541956206, 1133.832300017679, 703.2836619350346, 578.5450124948335, 487.0336673872134, 421.565204607167, 311.3639533276711, 290.5044952822637, 236.7854746297432, 234.2873818015048, 220.36375645101597, 443.98165877539185, 608.7343887313726, 397.77940599659115, 898.0944526196176, 1434.1487058046332, 1394.7459080162814, 752.0520494072179, 649.4414064515739, 1110.887146348102, 1340.1366331119239, 1349.9357613934026, 1362.4025866421755, 1585.3817753539304, 902.6524240107399, 1158.7571766812737, 975.8791160113534, 2484.371670441518, 752.0941686166373, 599.8299842588976, 509.976386042842, 419.2103470922994, 402.02576004221913, 389.46039094401215, 364.33568512329066, 354.86665720404926, 330.8570877208085, 1384.0562674638795, 845.2546541454271, 743.5429889559294, 559.127795962963, 1039.717584439479, 904.8064587969616, 959.6319763201, 649.8272662662697, 1287.0938933817974, 980.2499452532575, 1356.252380837116, 760.3110723815125, 494.5919656373957, 325.33799700712314, 317.1429078548502, 288.1971921285731, 257.54551215765554, 201.65358776879052, 195.10757251762627, 195.74260204541358, 176.1086838598005, 134.37176066721594, 214.99824936186235, 1379.046890199026, 273.5855255778913, 545.2474957997822, 797.7444106020847, 647.238094497933, 481.17757808937927, 468.1663269691001, 395.7923561937865, 292.81976395757704, 233.96182385834376, 193.2696112606812, 189.1713301235237, 134.994543967176, 132.6969444935824, 130.42843817153297, 129.8968426558333, 109.66855343404903, 104.22329208989319, 487.2549110929496, 226.462712720748, 244.28919899998095, 200.7727274121885, 168.60686374654773, 251.00714761650363, 182.93794515460453, 227.40660884736658], \"Total\": [1535.0, 2485.0, 1944.0, 1514.0, 3054.0, 1414.0, 689.0, 1690.0, 1134.0, 767.0, 966.2830655365497, 519.1214771801548, 532.2708391664969, 429.14591961352346, 423.4438687875312, 416.2298143449513, 379.9549846547077, 290.63345586172994, 284.7169905695367, 278.73856299216715, 303.14318125716096, 290.4553077194488, 903.0216743741807, 992.3581174621531, 430.8263303395554, 690.2134260625382, 984.6876968854222, 1221.7785109898662, 2505.0899232207958, 936.9059011831803, 2265.6951095650256, 1896.5360168504553, 1048.1903526179474, 2007.1143996045837, 2222.918815479038, 2945.9303743438504, 2712.1976079951705, 1918.1340833546585, 2383.546334989316, 2207.291383853134, 3419.3058564632056, 1134.739617220727, 704.1932640642258, 579.456513012157, 487.9436626092842, 422.48238542335184, 312.28153822545363, 291.4171202661169, 237.69255073096494, 235.20128034001195, 221.28367138080168, 453.1363923392161, 635.3454654904837, 409.81168094151724, 977.8228537719654, 1690.8439045686848, 1720.6135104642385, 867.48180134022, 757.3050407166933, 1579.1239726622573, 2098.1178510367163, 2226.8322457931367, 2442.2085640905875, 3419.3058564632056, 1303.217587258067, 2880.582492168602, 2463.7489635384304, 2485.280475937977, 753.0217519327232, 600.7507037032544, 510.9033689897865, 420.12444045569197, 402.9381022955403, 390.38061921938777, 365.2698226254105, 355.77885533889577, 331.7691390912793, 1414.1086537852725, 894.5938418614595, 783.0887478098823, 589.5533062963603, 1214.1770233686002, 1051.4699951956425, 1159.3614105870904, 713.9615069993931, 2019.271645726781, 1405.5122265575665, 3054.594061945979, 1007.8360867563133, 495.44218741819725, 326.18649268605253, 317.9854783551842, 289.04269960982947, 258.39654746846054, 202.49639678804868, 195.94812308755462, 196.5914077723704, 176.9491955358295, 135.2143917225894, 216.65888246128628, 1535.3669365005803, 291.5366075866242, 767.5238200667407, 1944.0542169636367, 1514.8781440990547, 895.2768606995197, 3054.594061945979, 2945.9303743438504, 293.61845271062884, 234.7640412152475, 194.07711598611257, 189.97373623767507, 135.7942422021707, 133.49445022514666, 131.23050841900505, 130.69884638284427, 110.48103406137002, 105.02160227849261, 689.9790911520291, 299.095756956528, 418.75441938806387, 296.73833105753175, 213.25838565310517, 468.02455687571893, 264.6345905856932, 771.4600949739705], \"Category\": [\"Default\", \"Default\", \"Default\", \"Default\", \"Default\", \"Default\", \"Default\", \"Default\", \"Default\", \"Default\", \"Topic1\", \"Topic1\", \"Topic1\", \"Topic1\", \"Topic1\", \"Topic1\", \"Topic1\", \"Topic1\", \"Topic1\", \"Topic1\", \"Topic1\", \"Topic1\", \"Topic1\", \"Topic1\", \"Topic1\", \"Topic1\", \"Topic1\", \"Topic1\", \"Topic1\", \"Topic1\", \"Topic1\", \"Topic1\", \"Topic1\", \"Topic1\", \"Topic1\", \"Topic1\", \"Topic1\", \"Topic1\", \"Topic1\", \"Topic1\", \"Topic1\", \"Topic2\", \"Topic2\", \"Topic2\", \"Topic2\", \"Topic2\", \"Topic2\", \"Topic2\", \"Topic2\", \"Topic2\", \"Topic2\", \"Topic2\", \"Topic2\", \"Topic2\", \"Topic2\", \"Topic2\", \"Topic2\", \"Topic2\", \"Topic2\", \"Topic2\", \"Topic2\", \"Topic2\", \"Topic2\", \"Topic2\", \"Topic2\", \"Topic2\", \"Topic2\", \"Topic3\", \"Topic3\", \"Topic3\", \"Topic3\", \"Topic3\", \"Topic3\", \"Topic3\", \"Topic3\", \"Topic3\", \"Topic3\", \"Topic3\", \"Topic3\", \"Topic3\", \"Topic3\", \"Topic3\", \"Topic3\", \"Topic3\", \"Topic3\", \"Topic3\", \"Topic3\", \"Topic3\", \"Topic3\", \"Topic4\", \"Topic4\", \"Topic4\", \"Topic4\", \"Topic4\", \"Topic4\", \"Topic4\", \"Topic4\", \"Topic4\", \"Topic4\", \"Topic4\", \"Topic4\", \"Topic4\", \"Topic4\", \"Topic4\", \"Topic4\", \"Topic4\", \"Topic4\", \"Topic4\", \"Topic5\", \"Topic5\", \"Topic5\", \"Topic5\", \"Topic5\", \"Topic5\", \"Topic5\", \"Topic5\", \"Topic5\", \"Topic5\", \"Topic5\", \"Topic5\", \"Topic5\", \"Topic5\", \"Topic5\", \"Topic5\", \"Topic5\", \"Topic5\"], \"logprob\": [10.0, 9.0, 8.0, 7.0, 6.0, 5.0, 4.0, 3.0, 2.0, 1.0, -6.0641, -6.6862, -6.6612, -6.8769, -6.8904, -6.9077, -6.999, -7.2677, -7.2883, -7.3096, -7.2258, -7.2685, -6.1563, -6.0676, -6.883, -6.4409, -6.1155, -5.9227, -5.3139, -6.1969, -5.4981, -5.6435, -6.1288, -5.6915, -5.654, -5.516, -5.6584, -5.8242, -5.7465, -5.8128, -5.7995, -5.2418, -5.7194, -5.9146, -6.0868, -6.2312, -6.5342, -6.6035, -6.808, -6.8186, -6.8799, -6.1794, -5.8638, -6.2892, -5.4749, -5.0068, -5.0347, -5.6523, -5.799, -5.2622, -5.0746, -5.0673, -5.0581, -4.9066, -5.4698, -5.22, -5.3918, -4.4349, -5.6298, -5.856, -6.0183, -6.2143, -6.2561, -6.2879, -6.3546, -6.3809, -6.451, -5.0199, -5.513, -5.6412, -5.9263, -5.3059, -5.4449, -5.3861, -5.7759, -5.0925, -5.3648, -5.0402, -5.6189, -4.9419, -5.3608, -5.3863, -5.482, -5.5945, -5.8391, -5.8721, -5.8689, -5.9746, -6.2451, -5.775, -3.9165, -5.5341, -4.8444, -4.4639, -4.673, -4.9694, -4.9968, -5.1648, -5.1707, -5.3951, -5.5862, -5.6076, -5.945, -5.9622, -5.9794, -5.9835, -6.1528, -6.2037, -4.6615, -5.4277, -5.3519, -5.5481, -5.7227, -5.3248, -5.6411, -5.4235], \"loglift\": [10.0, 9.0, 8.0, 7.0, 6.0, 5.0, 4.0, 3.0, 2.0, 1.0, 0.837, 0.8362, 0.8362, 0.8358, 0.8357, 0.8356, 0.8355, 0.8348, 0.8347, 0.8347, 0.8346, 0.8346, 0.8125, 0.8069, 0.8259, 0.7967, 0.7667, 0.7438, 0.6346, 0.7351, 0.5508, 0.5832, 0.6909, 0.4786, 0.414, 0.2704, 0.2107, 0.3912, 0.2517, 0.2622, -0.1621, 1.4986, 1.4981, 1.4978, 1.4975, 1.4972, 1.4965, 1.4963, 1.4956, 1.4955, 1.4952, 1.479, 1.4566, 1.4696, 1.4144, 1.3348, 1.2894, 1.3566, 1.3458, 1.1477, 1.0511, 0.9989, 0.9158, 0.7308, 1.1322, 0.5888, 0.5733, 1.5215, 1.5207, 1.5204, 1.5201, 1.5197, 1.5196, 1.5195, 1.5193, 1.5193, 1.5191, 1.5004, 1.4652, 1.4701, 1.4689, 1.3668, 1.3717, 1.3328, 1.4278, 1.0715, 1.1615, 0.71, 1.2401, 2.6272, 2.6263, 2.6262, 2.6259, 2.6256, 2.6247, 2.6246, 2.6246, 2.6241, 2.6226, 2.6212, 2.5215, 2.5653, 2.2869, 1.7381, 1.7785, 2.008, 0.7533, 0.6216, 2.9216, 2.9209, 2.9201, 2.9201, 2.9184, 2.9183, 2.9182, 2.9181, 2.9169, 2.9167, 2.5764, 2.6461, 2.3854, 2.5336, 2.6894, 2.3013, 2.5551, 1.7028]}, \"token.table\": {\"Topic\": [1, 3, 4, 5, 1, 3, 4, 1, 2, 3, 1, 4, 4, 5, 1, 1, 4, 3, 1, 3, 1, 3, 1, 2, 3, 1, 5, 1, 1, 3, 5, 1, 2, 3, 4, 1, 3, 1, 5, 1, 2, 5, 1, 2, 3, 2, 3, 1, 2, 3, 1, 2, 3, 1, 3, 4, 1, 3, 5, 1, 1, 3, 1, 2, 3, 2, 1, 2, 3, 1, 3, 3, 1, 1, 5, 1, 1, 2, 3, 4, 1, 2, 3, 1, 2, 3, 3, 1, 3, 1, 2, 3, 1, 4, 2, 4, 3, 5, 3, 1, 2, 3, 5, 3, 1, 1, 2, 3, 4, 1, 4, 1, 3, 4, 4, 2, 4, 5, 5, 1, 1, 2, 3, 1, 2, 3, 4, 3, 2, 3, 4, 1, 3, 5, 1, 2, 5, 2, 1, 5, 2, 4, 1, 3, 4, 2, 2, 2, 5, 5, 1, 1, 3, 4, 1, 3, 4, 5, 1, 2, 3, 1, 3, 1, 3, 1, 2, 3, 4, 1, 2, 3, 1, 2, 3, 1, 3, 5, 1, 3, 4, 5, 3, 4, 4, 1, 1, 2, 3, 4, 1, 3, 1, 2, 2, 1, 2, 3, 2, 1, 2, 3, 1, 2, 3, 1, 2, 3, 1, 2, 3, 1, 2, 3, 1, 5, 5, 1, 3, 3, 2, 3], \"Freq\": [0.09901786528791046, 0.47330539607621197, 0.4270970589418538, 0.9946530026684612, 0.8633927966801861, 0.09921861972899376, 0.03720698239837266, 0.3282690024724506, 0.6062423438273712, 0.06511491841108802, 0.004615550438734886, 0.9923433443280005, 0.9946357736583363, 0.9941511349134508, 0.9973297669600227, 0.05831171646239587, 0.9398476653350865, 0.997810844216265, 0.9974817429472599, 0.9976817039300702, 0.0205076179417848, 0.9787083872906951, 0.34364132579289647, 0.6386676512655773, 0.017634853057333106, 0.9949895640369758, 0.9944500618703049, 0.997612420082064, 0.24263801627313394, 0.08087933875771132, 0.6773644620958323, 0.36371445025733445, 0.038630337651094034, 0.44392150724477547, 0.1532118476331526, 0.08824005129460509, 0.9104132276427509, 0.9591236203220684, 0.039118334967818504, 0.12704961242737756, 0.1136759690139694, 0.7556108528575612, 0.5563139178521334, 0.2345244947808013, 0.2089323763879053, 0.1388532251677181, 0.8606997861423621, 0.07215331922145754, 0.8480972111768041, 0.07984178766308826, 0.0255670031678664, 0.9183667537897611, 0.05522472684259142, 0.07165347253782492, 0.8565472579234243, 0.07165347253782492, 0.22295385220904185, 0.48220251756839283, 0.29424723518286333, 0.9978204303429151, 0.05088598381113889, 0.9481754983475547, 0.36791093070019343, 0.46354437612067295, 0.16845524330946854, 0.9993482053419985, 0.14297225873440153, 0.8107573208719111, 0.04649504349086229, 0.9887975037743131, 0.009284483603514677, 0.9994847760844805, 0.9974865847448335, 0.29276249467607646, 0.7058184896398477, 0.9970453477800797, 0.7503216089504517, 0.11387233829953915, 0.10283819699144427, 0.03266105827196084, 0.815938773715567, 0.11616349469238259, 0.06746264812031841, 0.9019048753272703, 0.06617526895892398, 0.030952948384012826, 0.9976718451538935, 0.9745059559172426, 0.024362648897931067, 0.5338844027188517, 0.2267533892763079, 0.23928934900865662, 0.9978396632976031, 0.9969008699382068, 0.994198978294279, 0.9969916906386104, 0.9986431309187275, 0.9902724557964412, 0.9973235538154545, 0.20206156491116659, 0.05905320382967193, 0.6972546958202227, 0.04126609424242134, 0.9982318202528734, 0.9965901766586786, 0.6980170140157468, 0.23516347652778907, 0.06676251240407571, 0.9963925758677282, 0.10160437631642398, 0.8981566342330043, 0.910148598946199, 0.08021093767691323, 0.009821747470642437, 0.9910187687337241, 0.9970863591272205, 0.9963625327453565, 0.9962960990190023, 0.9978936858194047, 0.9962289065766873, 0.4480976009887135, 0.3961442559465438, 0.1554541496183671, 0.29153939203596624, 0.5576919269002613, 0.13021000936437818, 0.02006380647438532, 0.996523603794358, 0.9798374341728513, 0.01765472854365498, 0.9975486142177223, 0.43587456470616553, 0.025639680276833266, 0.5362966457904291, 0.026841597034833593, 0.9711777836239791, 0.9948743639149318, 0.9992121703667046, 0.20632248464814043, 0.7924659069439939, 0.9988582117503705, 0.9984653530693597, 0.22279438830332401, 0.06644744914309664, 0.710075682019366, 0.998305487818303, 0.9980660418781997, 0.9958962088097298, 0.9967454930010046, 0.9906233052524939, 0.9973503379502322, 0.3306239812438825, 0.13180280333370992, 0.5372639695213091, 0.47272344154853874, 0.07973028665943799, 0.41048237905955814, 0.03703600412567442, 0.0937535024629012, 0.8569862408228575, 0.04753698716428793, 0.1716462167731011, 0.8280420507647088, 0.9694081028532414, 0.030231021918500252, 0.5622275378222434, 0.18167062261621242, 0.21972631413681554, 0.036243515733907716, 0.049876552185547283, 0.6929004095930646, 0.25705607664858987, 0.051874287080693846, 0.8668769752151505, 0.07954057352373056, 0.9312597312838181, 0.06397967619507147, 0.0040622016631791415, 0.2746239673555024, 0.016716241491204493, 0.12417779393466194, 0.5826804176934137, 0.9987503906385348, 0.9991074893712594, 0.9951613566253402, 0.9986721639007125, 0.566883730363777, 0.2379553862185675, 0.060761789062943765, 0.13442272887668005, 0.049802784306470955, 0.9500838852311383, 0.04092261834264942, 0.958533637333596, 0.9948925433642396, 0.18224392977476223, 0.18026301749460177, 0.6373585261416277, 0.9985686487268284, 0.6545448218208761, 0.12416107960313526, 0.2213306201621107, 0.6396841652769539, 0.19393847553628923, 0.166307456172248, 0.7750973284658225, 0.05167315523105483, 0.17294688689577536, 0.35930232958571384, 0.40234917873414716, 0.23814627835342964, 0.2311408137162554, 0.7035546412020816, 0.06522603784321727, 0.3060824354848306, 0.6915195764657284, 0.9956460032669243, 0.2450795354976435, 0.7540908784542877, 0.9964634022504794, 0.05477345998497086, 0.9445627283122525], \"Term\": [\"android\", \"android\", \"android\", \"ansible\", \"api\", \"api\", \"api\", \"array\", \"array\", \"array\", \"arraylist\", \"arraylist\", \"artifactid\", \"aspnetcore\", \"aws\", \"boot\", \"boot\", \"border\", \"branch\", \"btn\", \"button\", \"button\", \"c\", \"c\", \"c\", \"c++\", \"certificate\", \"char\", \"city\", \"city\", \"city\", \"class\", \"class\", \"class\", \"class\", \"click\", \"click\", \"client\", \"client\", \"cluster\", \"cluster\", \"cluster\", \"code\", \"code\", \"code\", \"color\", \"color\", \"column\", \"column\", \"column\", \"columns\", \"columns\", \"columns\", \"component\", \"component\", \"component\", \"container\", \"container\", \"container\", \"cout\", \"css\", \"css\", \"data\", \"data\", \"data\", \"dataframe\", \"date\", \"date\", \"date\", \"directory\", \"directory\", \"div\", \"django\", \"docker\", \"docker\", \"err\", \"error\", \"error\", \"error\", \"error\", \"file\", \"file\", \"file\", \"files\", \"files\", \"files\", \"font\", \"foo\", \"foo\", \"function\", \"function\", \"function\", \"git\", \"gradle\", \"groupby\", \"groupid\", \"height\", \"helm\", \"icon\", \"image\", \"image\", \"image\", \"image\", \"img\", \"install\", \"int\", \"int\", \"int\", \"jar\", \"java\", \"java\", \"json\", \"json\", \"json\", \"junit\", \"keras\", \"kotlin\", \"kubectl\", \"kubernetes\", \"laravel\", \"like\", \"like\", \"like\", \"list\", \"list\", \"list\", \"list\", \"mat\", \"matrix\", \"matrix\", \"maven\", \"microsoft\", \"microsoft\", \"microsoft\", \"month\", \"month\", \"mov\", \"nan\", \"nginx\", \"nginx\", \"numpy\", \"observable\", \"org\", \"org\", \"org\", \"pandas\", \"plot\", \"plt\", \"pod\", \"pods\", \"printf\", \"private\", \"private\", \"private\", \"public\", \"public\", \"public\", \"public\", \"range\", \"range\", \"range\", \"react\", \"react\", \"request\", \"request\", \"return\", \"return\", \"return\", \"return\", \"row\", \"row\", \"row\", \"rows\", \"rows\", \"rows\", \"server\", \"server\", \"server\", \"services\", \"services\", \"services\", \"services\", \"span\", \"spring\", \"springframework\", \"std\", \"string\", \"string\", \"string\", \"string\", \"style\", \"style\", \"sum\", \"sum\", \"tensorflow\", \"text\", \"text\", \"text\", \"train\", \"type\", \"type\", \"type\", \"use\", \"use\", \"use\", \"user\", \"user\", \"user\", \"value\", \"value\", \"value\", \"values\", \"values\", \"values\", \"vec\", \"vec\", \"vertex\", \"view\", \"view\", \"widget\", \"width\", \"width\"]}, \"R\": 10, \"lambda.step\": 0.01, \"plot.opts\": {\"xlab\": \"PC1\", \"ylab\": \"PC2\"}, \"topic.order\": [5, 1, 3, 4, 2]};\n",
       "\n",
       "function LDAvis_load_lib(url, callback){\n",
       "  var s = document.createElement('script');\n",
       "  s.src = url;\n",
       "  s.async = true;\n",
       "  s.onreadystatechange = s.onload = callback;\n",
       "  s.onerror = function(){console.warn(\"failed to load library \" + url);};\n",
       "  document.getElementsByTagName(\"head\")[0].appendChild(s);\n",
       "}\n",
       "\n",
       "if(typeof(LDAvis) !== \"undefined\"){\n",
       "   // already loaded: just create the visualization\n",
       "   !function(LDAvis){\n",
       "       new LDAvis(\"#\" + \"ldavis_el8721401516745281769524201704\", ldavis_el8721401516745281769524201704_data);\n",
       "   }(LDAvis);\n",
       "}else if(typeof define === \"function\" && define.amd){\n",
       "   // require.js is available: use it to load d3/LDAvis\n",
       "   require.config({paths: {d3: \"https://cdnjs.cloudflare.com/ajax/libs/d3/3.5.5/d3.min\"}});\n",
       "   require([\"d3\"], function(d3){\n",
       "      window.d3 = d3;\n",
       "      LDAvis_load_lib(\"https://cdn.rawgit.com/bmabey/pyLDAvis/files/ldavis.v1.0.0.js\", function(){\n",
       "        new LDAvis(\"#\" + \"ldavis_el8721401516745281769524201704\", ldavis_el8721401516745281769524201704_data);\n",
       "      });\n",
       "    });\n",
       "}else{\n",
       "    // require.js not available: dynamically load d3 & LDAvis\n",
       "    LDAvis_load_lib(\"https://cdnjs.cloudflare.com/ajax/libs/d3/3.5.5/d3.min.js\", function(){\n",
       "         LDAvis_load_lib(\"https://cdn.rawgit.com/bmabey/pyLDAvis/files/ldavis.v1.0.0.js\", function(){\n",
       "                 new LDAvis(\"#\" + \"ldavis_el8721401516745281769524201704\", ldavis_el8721401516745281769524201704_data);\n",
       "            })\n",
       "         });\n",
       "}\n",
       "</script>"
      ],
      "text/plain": [
       "PreparedData(topic_coordinates=              x         y  topics  cluster       Freq\n",
       "topic                                                \n",
       "4     -0.161944 -0.031018       1        1  43.257743\n",
       "0     -0.199354  0.080013       2        1  22.326224\n",
       "2     -0.139417 -0.045910       3        1  21.829888\n",
       "3      0.236909 -0.198567       4        1   7.215939\n",
       "1      0.263806  0.195482       5        1   5.370206, topic_info=            Term         Freq        Total Category  logprob  loglift\n",
       "27013       java  1535.000000  1535.000000  Default  10.0000  10.0000\n",
       "14242        div  2485.000000  2485.000000  Default   9.0000   9.0000\n",
       "41476     public  1944.000000  1944.000000  Default   8.0000   8.0000\n",
       "1984     android  1514.000000  1514.000000  Default   7.0000   7.0000\n",
       "8208       class  3054.000000  3054.000000  Default   6.0000   6.0000\n",
       "...          ...          ...          ...      ...      ...      ...\n",
       "8138        city   200.772727   296.738331   Topic5  -5.5481   2.5336\n",
       "35009      nginx   168.606864   213.258386   Topic5  -5.7227   2.6894\n",
       "32130  microsoft   251.007148   468.024557   Topic5  -5.3248   2.3013\n",
       "57470        vec   182.937945   264.634591   Topic5  -5.6411   2.5551\n",
       "10027  container   227.406609   771.460095   Topic5  -5.4235   1.7028\n",
       "\n",
       "[126 rows x 6 columns], token_table=       Topic      Freq     Term\n",
       "term                           \n",
       "1984       1  0.099018  android\n",
       "1984       3  0.473305  android\n",
       "1984       4  0.427097  android\n",
       "2180       5  0.994653  ansible\n",
       "2306       1  0.863393      api\n",
       "...      ...       ...      ...\n",
       "57794      1  0.245080     view\n",
       "57794      3  0.754091     view\n",
       "58861      3  0.996463   widget\n",
       "58876      2  0.054773    width\n",
       "58876      3  0.944563    width\n",
       "\n",
       "[222 rows x 3 columns], R=10, lambda_step=0.01, plot_opts={'xlab': 'PC1', 'ylab': 'PC2'}, topic_order=[5, 1, 3, 4, 2])"
      ]
     },
     "execution_count": 13,
     "metadata": {
      "tags": []
     },
     "output_type": "execute_result"
    }
   ],
   "source": [
    "tm.display_LDAvis(X_train_vectorized,\n",
    "                  unigram_tfidf, # [unigram_tfidf, trigrams_tfidf],\n",
    "                  n_top_words=10)"
   ]
  },
  {
   "cell_type": "markdown",
   "metadata": {
    "id": "qXo6ikDqdQXM"
   },
   "source": [
    "#### 1.2.3 - Build topics distribution by documents (questions)"
   ]
  },
  {
   "cell_type": "code",
   "execution_count": 14,
   "metadata": {
    "colab": {
     "base_uri": "https://localhost:8080/",
     "height": 161
    },
    "id": "JZo9iFubdQXN",
    "outputId": "517e673f-07ba-4713-d54f-472a1ddecf24"
   },
   "outputs": [
    {
     "data": {
      "text/html": [
       "<div>\n",
       "<style scoped>\n",
       "    .dataframe tbody tr th:only-of-type {\n",
       "        vertical-align: middle;\n",
       "    }\n",
       "\n",
       "    .dataframe tbody tr th {\n",
       "        vertical-align: top;\n",
       "    }\n",
       "\n",
       "    .dataframe thead th {\n",
       "        text-align: right;\n",
       "    }\n",
       "</style>\n",
       "<table border=\"1\" class=\"dataframe\">\n",
       "  <thead>\n",
       "    <tr style=\"text-align: right;\">\n",
       "      <th></th>\n",
       "      <th>.htaccess</th>\n",
       "      <th>.net</th>\n",
       "      <th>.net-core</th>\n",
       "      <th>aab</th>\n",
       "      <th>aaba</th>\n",
       "      <th>aabb</th>\n",
       "      <th>aabbcc</th>\n",
       "      <th>aac</th>\n",
       "      <th>aacc</th>\n",
       "      <th>aaccfddecaaec</th>\n",
       "      <th>aad</th>\n",
       "      <th>aadd</th>\n",
       "      <th>aadinstance</th>\n",
       "      <th>aadsts</th>\n",
       "      <th>aae</th>\n",
       "      <th>aaefaff</th>\n",
       "      <th>aaf</th>\n",
       "      <th>aah</th>\n",
       "      <th>aan</th>\n",
       "      <th>aantal</th>\n",
       "      <th>aap</th>\n",
       "      <th>aapl</th>\n",
       "      <th>aapt</th>\n",
       "      <th>aaptdaemon</th>\n",
       "      <th>aaptdaemonimpl</th>\n",
       "      <th>aaptinternalexception</th>\n",
       "      <th>aar</th>\n",
       "      <th>aarch</th>\n",
       "      <th>aardvark</th>\n",
       "      <th>aaron</th>\n",
       "      <th>aas</th>\n",
       "      <th>aat</th>\n",
       "      <th>aatrox</th>\n",
       "      <th>aawyp</th>\n",
       "      <th>aba</th>\n",
       "      <th>abaa</th>\n",
       "      <th>abab</th>\n",
       "      <th>ababa</th>\n",
       "      <th>ababab</th>\n",
       "      <th>abacus</th>\n",
       "      <th>...</th>\n",
       "      <th>zscore</th>\n",
       "      <th>zsh</th>\n",
       "      <th>zshrc</th>\n",
       "      <th>zsize</th>\n",
       "      <th>zst</th>\n",
       "      <th>zstack</th>\n",
       "      <th>zstcout</th>\n",
       "      <th>zstd</th>\n",
       "      <th>zstgetilmedlmeert</th>\n",
       "      <th>zstl</th>\n",
       "      <th>ztanpfmrkuzfbdtjw</th>\n",
       "      <th>zulh</th>\n",
       "      <th>zulu</th>\n",
       "      <th>zulufx</th>\n",
       "      <th>zum</th>\n",
       "      <th>zur</th>\n",
       "      <th>zurich</th>\n",
       "      <th>zuul</th>\n",
       "      <th>zval</th>\n",
       "      <th>zvbi</th>\n",
       "      <th>zvg</th>\n",
       "      <th>zvp</th>\n",
       "      <th>zvxgp</th>\n",
       "      <th>zwei</th>\n",
       "      <th>zxc</th>\n",
       "      <th>zxcv</th>\n",
       "      <th>zxid</th>\n",
       "      <th>zxing</th>\n",
       "      <th>zxingscannerview</th>\n",
       "      <th>zygote</th>\n",
       "      <th>zygoteinit</th>\n",
       "      <th>zyx</th>\n",
       "      <th>zza</th>\n",
       "      <th>zzairas</th>\n",
       "      <th>zzb</th>\n",
       "      <th>zzc</th>\n",
       "      <th>zzf</th>\n",
       "      <th>zzi</th>\n",
       "      <th>zziplib</th>\n",
       "      <th>zzkt</th>\n",
       "    </tr>\n",
       "  </thead>\n",
       "  <tbody>\n",
       "    <tr>\n",
       "      <th>Topic_1</th>\n",
       "      <td>8.612153e-07</td>\n",
       "      <td>8.637871e-07</td>\n",
       "      <td>8.602212e-07</td>\n",
       "      <td>0.000016</td>\n",
       "      <td>0.000001</td>\n",
       "      <td>0.000017</td>\n",
       "      <td>0.000010</td>\n",
       "      <td>9.392885e-07</td>\n",
       "      <td>8.796954e-07</td>\n",
       "      <td>8.609427e-07</td>\n",
       "      <td>8.690174e-07</td>\n",
       "      <td>0.000005</td>\n",
       "      <td>8.593438e-07</td>\n",
       "      <td>8.593911e-07</td>\n",
       "      <td>9.270978e-07</td>\n",
       "      <td>8.596176e-07</td>\n",
       "      <td>0.000003</td>\n",
       "      <td>0.000002</td>\n",
       "      <td>9.699258e-07</td>\n",
       "      <td>8.604421e-07</td>\n",
       "      <td>0.000009</td>\n",
       "      <td>0.000082</td>\n",
       "      <td>8.609418e-07</td>\n",
       "      <td>8.594228e-07</td>\n",
       "      <td>8.594460e-07</td>\n",
       "      <td>8.593868e-07</td>\n",
       "      <td>8.616606e-07</td>\n",
       "      <td>8.605008e-07</td>\n",
       "      <td>0.000016</td>\n",
       "      <td>0.000011</td>\n",
       "      <td>0.000009</td>\n",
       "      <td>0.000004</td>\n",
       "      <td>0.000010</td>\n",
       "      <td>9.110734e-07</td>\n",
       "      <td>0.000025</td>\n",
       "      <td>8.595227e-07</td>\n",
       "      <td>0.000017</td>\n",
       "      <td>0.000003</td>\n",
       "      <td>0.000009</td>\n",
       "      <td>0.000001</td>\n",
       "      <td>...</td>\n",
       "      <td>0.000017</td>\n",
       "      <td>8.622717e-07</td>\n",
       "      <td>8.598301e-07</td>\n",
       "      <td>8.610277e-07</td>\n",
       "      <td>8.599700e-07</td>\n",
       "      <td>8.594635e-07</td>\n",
       "      <td>8.602124e-07</td>\n",
       "      <td>8.814439e-07</td>\n",
       "      <td>8.594230e-07</td>\n",
       "      <td>8.593495e-07</td>\n",
       "      <td>8.607526e-07</td>\n",
       "      <td>8.601464e-07</td>\n",
       "      <td>9.391931e-07</td>\n",
       "      <td>8.593848e-07</td>\n",
       "      <td>0.000001</td>\n",
       "      <td>9.630798e-07</td>\n",
       "      <td>0.000004</td>\n",
       "      <td>8.596874e-07</td>\n",
       "      <td>0.000005</td>\n",
       "      <td>8.608620e-07</td>\n",
       "      <td>8.598255e-07</td>\n",
       "      <td>8.595136e-07</td>\n",
       "      <td>8.598255e-07</td>\n",
       "      <td>8.792403e-07</td>\n",
       "      <td>0.000009</td>\n",
       "      <td>8.725295e-07</td>\n",
       "      <td>8.593949e-07</td>\n",
       "      <td>8.605707e-07</td>\n",
       "      <td>8.593525e-07</td>\n",
       "      <td>8.628986e-07</td>\n",
       "      <td>8.593860e-07</td>\n",
       "      <td>0.000002</td>\n",
       "      <td>8.671690e-07</td>\n",
       "      <td>8.894629e-07</td>\n",
       "      <td>8.594208e-07</td>\n",
       "      <td>8.593389e-07</td>\n",
       "      <td>8.593335e-07</td>\n",
       "      <td>8.594500e-07</td>\n",
       "      <td>8.608620e-07</td>\n",
       "      <td>8.597860e-07</td>\n",
       "    </tr>\n",
       "    <tr>\n",
       "      <th>Topic_2</th>\n",
       "      <td>5.700881e-06</td>\n",
       "      <td>2.152954e-03</td>\n",
       "      <td>2.391061e-05</td>\n",
       "      <td>0.000006</td>\n",
       "      <td>0.000006</td>\n",
       "      <td>0.000032</td>\n",
       "      <td>0.000031</td>\n",
       "      <td>5.961201e-06</td>\n",
       "      <td>2.947971e-05</td>\n",
       "      <td>5.705705e-06</td>\n",
       "      <td>5.923577e-06</td>\n",
       "      <td>0.000006</td>\n",
       "      <td>2.349641e-05</td>\n",
       "      <td>1.836853e-04</td>\n",
       "      <td>6.618305e-06</td>\n",
       "      <td>5.695279e-06</td>\n",
       "      <td>0.000006</td>\n",
       "      <td>0.000006</td>\n",
       "      <td>5.941499e-06</td>\n",
       "      <td>5.696783e-06</td>\n",
       "      <td>0.000006</td>\n",
       "      <td>0.000006</td>\n",
       "      <td>5.713296e-06</td>\n",
       "      <td>5.687240e-06</td>\n",
       "      <td>5.688229e-06</td>\n",
       "      <td>5.685899e-06</td>\n",
       "      <td>5.686206e-06</td>\n",
       "      <td>5.833507e-06</td>\n",
       "      <td>0.000006</td>\n",
       "      <td>0.000006</td>\n",
       "      <td>0.000006</td>\n",
       "      <td>0.000006</td>\n",
       "      <td>0.000006</td>\n",
       "      <td>2.066466e-05</td>\n",
       "      <td>0.000006</td>\n",
       "      <td>5.713731e-06</td>\n",
       "      <td>0.000006</td>\n",
       "      <td>0.000006</td>\n",
       "      <td>0.000006</td>\n",
       "      <td>0.000006</td>\n",
       "      <td>...</td>\n",
       "      <td>0.000006</td>\n",
       "      <td>5.696280e-06</td>\n",
       "      <td>5.698456e-06</td>\n",
       "      <td>5.706002e-06</td>\n",
       "      <td>2.573669e-05</td>\n",
       "      <td>5.683940e-06</td>\n",
       "      <td>1.307147e-05</td>\n",
       "      <td>5.811106e-06</td>\n",
       "      <td>6.633595e-06</td>\n",
       "      <td>6.489477e-06</td>\n",
       "      <td>5.692451e-06</td>\n",
       "      <td>5.721605e-06</td>\n",
       "      <td>5.819429e-06</td>\n",
       "      <td>5.684634e-06</td>\n",
       "      <td>0.000006</td>\n",
       "      <td>6.158338e-06</td>\n",
       "      <td>0.000006</td>\n",
       "      <td>2.502640e-04</td>\n",
       "      <td>0.000006</td>\n",
       "      <td>2.357673e-05</td>\n",
       "      <td>1.261225e-05</td>\n",
       "      <td>1.369541e-05</td>\n",
       "      <td>1.261225e-05</td>\n",
       "      <td>5.721113e-06</td>\n",
       "      <td>0.000006</td>\n",
       "      <td>5.688537e-06</td>\n",
       "      <td>5.687932e-06</td>\n",
       "      <td>5.780797e-06</td>\n",
       "      <td>5.684228e-06</td>\n",
       "      <td>5.701383e-06</td>\n",
       "      <td>5.683953e-06</td>\n",
       "      <td>0.000006</td>\n",
       "      <td>5.683832e-06</td>\n",
       "      <td>5.112620e-05</td>\n",
       "      <td>5.683713e-06</td>\n",
       "      <td>5.684405e-06</td>\n",
       "      <td>5.683532e-06</td>\n",
       "      <td>5.687819e-06</td>\n",
       "      <td>2.357673e-05</td>\n",
       "      <td>5.685892e-06</td>\n",
       "    </tr>\n",
       "  </tbody>\n",
       "</table>\n",
       "<p>2 rows × 60467 columns</p>\n",
       "</div>"
      ],
      "text/plain": [
       "            .htaccess          .net  ...       zziplib          zzkt\n",
       "Topic_1  8.612153e-07  8.637871e-07  ...  8.608620e-07  8.597860e-07\n",
       "Topic_2  5.700881e-06  2.152954e-03  ...  2.357673e-05  5.685892e-06\n",
       "\n",
       "[2 rows x 60467 columns]"
      ]
     },
     "execution_count": 14,
     "metadata": {
      "tags": []
     },
     "output_type": "execute_result"
    }
   ],
   "source": [
    "# Create Document — Topic Matrix\n",
    "doc_topic_distr = tm.model.transform(X_test_vectorized)\n",
    "\n",
    "# topic names (columns)\n",
    "topic_names = ['Topic_{}'.format(i+1) for i in range(tm.model.n_components)]\n",
    "\n",
    "# document names (index)\n",
    "doc_names = ['Doc_{}'.format(i+1) for i in range(len(X_test))]\n",
    "\n",
    "# Make the pandas dataframe\n",
    "df_doc_topic = pd.DataFrame(np.round(doc_topic_distr, 2), columns=topic_names, index=doc_names)\n",
    "\n",
    "# Get main topics by documents (questions)\n",
    "col_names = {doc: [] for doc in doc_names}\n",
    "for doc, data in df_doc_topic.iterrows():\n",
    "    for topic, x in data.iteritems():\n",
    "        if x > 0.1:\n",
    "            col_names[doc].append(int(topic.replace('Topic_', '')))\n",
    "            \n",
    "df_doc_topic[\"Main_topic(s)\"] = df_doc_topic.index.map(col_names)\n",
    "\n",
    "# Topic-Keyword Matrix\n",
    "df_topic_keywords = pd.DataFrame(tm.model.components_ / tm.model.components_.sum(axis=1)[:, np.newaxis]) \n",
    "df_topic_keywords.columns = [w for w in unigram_tfidf.get_feature_names()]\n",
    "df_topic_keywords.index = topic_names\n",
    "df_topic_keywords.head(2)"
   ]
  },
  {
   "cell_type": "markdown",
   "metadata": {
    "id": "b7zRQZOpdQXW"
   },
   "source": [
    "#### 1.2.4 - Assign tag to questions"
   ]
  },
  {
   "cell_type": "code",
   "execution_count": 15,
   "metadata": {
    "colab": {
     "base_uri": "https://localhost:8080/"
    },
    "id": "TMIz-aGgdQXY",
    "outputId": "673145e7-da0d-4d64-ca0e-15fb971c382d"
   },
   "outputs": [
    {
     "name": "stdout",
     "output_type": "stream",
     "text": [
      "1401 words with 138 from target tag list (9.9 %)\n"
     ]
    }
   ],
   "source": [
    "n_tags = len(tags)\n",
    "lda_scores = []\n",
    "lda_tags = []\n",
    "# Get token labels\n",
    "token_names = df_topic_keywords.columns\n",
    "# Get distribution over the words for each topic \n",
    "lda_components = tm.model.components_ / tm.model.components_.sum(axis=1)[:, np.newaxis]\n",
    "# Find best tags\n",
    "for topic_number in range(lda_params['n_components']):\n",
    "    topic_score = doc_topic_distr[0][topic_number]\n",
    "    for word_idx, word_score in zip(lda_components[topic_number].argsort()[-n_tags:],\n",
    "                                    sorted(lda_components[topic_number])[-n_tags:]):\n",
    "        score = topic_score*word_score\n",
    "        # print(score, token_names[word_idx])\n",
    "        if score >= 0.00001:\n",
    "            lda_scores.append(score)\n",
    "            lda_tags.append(token_names[word_idx])\n",
    "\n",
    "results = list(set([tag for score, tag in sorted(zip(lda_scores, lda_tags), key=lambda pair: pair[0], reverse=True)]))\n",
    "tags_from_results = len([w for w in results if w in tags])\n",
    "print(\"{} words with {} from target tag list ({} %)\".format(len(results),\n",
    "                                                            tags_from_results,\n",
    "                                                            round(tags_from_results/len(results)*100, 1)))\n",
    "\n",
    "\n",
    "# Get main tags by topics (5 largest)\n",
    "\n",
    "# tags_by_topic = {n+1: [] for n in range(len(df_topic_keywords.T.columns))}\n",
    "# for topic in df_topic_keywords.T.columns:\n",
    "#     for tag in df_topic_keywords.T.nlargest(5, topic).index:\n",
    "#         # Decompose tri-grams\n",
    "#         if ' ' in tag:\n",
    "#             tags_by_topic[int(topic.replace('Topic_', ''))].extend(tag.split())\n",
    "#         else:\n",
    "#             tags_by_topic[int(topic.replace('Topic_', ''))].append(tag)\n",
    "\n",
    "# df_doc_topic['tags'] = df_doc_topic[\"Main_topic(s)\"].map(lambda n: set([i for x in n for i in tags_by_topic[x]]))\n",
    "# # Use target to filter topic tags\n",
    "# df_doc_topic['tags'] = df_doc_topic['tags'].map(lambda topic_tags: [tag for tag in topic_tags if tag in tags])\n",
    "# # Evaluate LDA\n",
    "# lda_pred = multilabel_encoder.transform(df_doc_topic['tags'])\n",
    "# evaluate_text_classifier(y_test_sampled, lda_pred)"
   ]
  },
  {
   "cell_type": "markdown",
   "metadata": {
    "id": "woL8YoKUdQXd"
   },
   "source": [
    "## 2 - Supervised method (TF-IDF + SVM) <a class=\"anchor\" id=\"second_2\"></a>"
   ]
  },
  {
   "cell_type": "markdown",
   "metadata": {
    "id": "GpTgs0V9dQXe"
   },
   "source": [
    "### 2.1 - Dummy Classifier <a class=\"anchor\" id=\"second_2_1\"></a>"
   ]
  },
  {
   "cell_type": "code",
   "execution_count": 16,
   "metadata": {
    "colab": {
     "base_uri": "https://localhost:8080/",
     "height": 81
    },
    "id": "7C-o4BUrdQXe",
    "outputId": "2c5bb4bd-97c3-4fbd-c541-43c9fee18f18"
   },
   "outputs": [
    {
     "data": {
      "text/html": [
       "<div>\n",
       "<style scoped>\n",
       "    .dataframe tbody tr th:only-of-type {\n",
       "        vertical-align: middle;\n",
       "    }\n",
       "\n",
       "    .dataframe tbody tr th {\n",
       "        vertical-align: top;\n",
       "    }\n",
       "\n",
       "    .dataframe thead th {\n",
       "        text-align: right;\n",
       "    }\n",
       "</style>\n",
       "<table border=\"1\" class=\"dataframe\">\n",
       "  <thead>\n",
       "    <tr style=\"text-align: right;\">\n",
       "      <th></th>\n",
       "      <th>accuracy</th>\n",
       "      <th>precision</th>\n",
       "      <th>recall</th>\n",
       "      <th>f1-score</th>\n",
       "      <th>jaccard score</th>\n",
       "    </tr>\n",
       "  </thead>\n",
       "  <tbody>\n",
       "    <tr>\n",
       "      <th>results</th>\n",
       "      <td>0.14</td>\n",
       "      <td>3.71</td>\n",
       "      <td>1.89</td>\n",
       "      <td>1.79</td>\n",
       "      <td>1.21</td>\n",
       "    </tr>\n",
       "  </tbody>\n",
       "</table>\n",
       "</div>"
      ],
      "text/plain": [
       "         accuracy  precision  recall  f1-score  jaccard score\n",
       "results      0.14       3.71    1.89      1.79           1.21"
      ]
     },
     "execution_count": 16,
     "metadata": {
      "tags": []
     },
     "output_type": "execute_result"
    }
   ],
   "source": [
    "dummy_clf = OneVsRestClassifier(DummyClassifier(strategy='stratified', random_state=42))\n",
    "\n",
    "dummy_clf.fit(X_train_vectorized, y_train)\n",
    "\n",
    "y_pred_dummy_cls = dummy_clf.predict(X_test_vectorized)\n",
    "\n",
    "evaluate_text_classifier(y_pred_dummy_cls, y_test)"
   ]
  },
  {
   "cell_type": "markdown",
   "metadata": {
    "id": "aL1EEYU5dQXk"
   },
   "source": [
    "### 2.2 - Linear SVM <a class=\"anchor\" id=\"second_2_2\"></a>"
   ]
  },
  {
   "cell_type": "markdown",
   "metadata": {
    "id": "KSz8PhGbdQXl"
   },
   "source": [
    "#### 2.2.1 - Add quantitative features (from train & testing sets)"
   ]
  },
  {
   "cell_type": "code",
   "execution_count": 17,
   "metadata": {
    "id": "c8At6nPIdQXo"
   },
   "outputs": [],
   "source": [
    "# quanti_cols = [\n",
    "# #                'Score',\n",
    "# #                'ViewCount',\n",
    "# #                'CommentCount',\n",
    "# #                'AnswerCount',\n",
    "# #                'TitleLength',\n",
    "# #                'BodyLength',\n",
    "# #                'TotalTags',\n",
    "# #                'TotalTokens',\n",
    "# #                'UniqueTokens'\n",
    "#                ]\n",
    "\n",
    "# X_train_quanti = df[df.index.isin(X_train.index)].loc[:, quanti_cols]\n",
    "\n",
    "# X_test_quanti = df[df.index.isin(X_test.index)].loc[:, quanti_cols]\n",
    "\n",
    "# Standardize quantitative features (from train & testing sets)\n",
    "# X_train_quanti_scaled, std_scaler = standard_scaler(X_train_quanti,\n",
    "#                                                     return_std_scaler=True,\n",
    "#                                                     rebuild_df=True)\n",
    "# X_test_quanti_scaled = std_scaler.transform(X_test_quanti)\n",
    "\n",
    "# Merge quantitative features with TF-IDF features (from train & testing sets)\n",
    "# X_train_svm = hstack((X_train_vectorized, X_train_quanti_scaled)).tocsr()\n",
    "# X_test_svm = hstack((X_test_vectorized, X_test_quanti_scaled)).tocsr()"
   ]
  },
  {
   "cell_type": "markdown",
   "metadata": {
    "id": "9Vo0gqDFdQXu"
   },
   "source": [
    "#### 2.2.2 - Train linear SVM"
   ]
  },
  {
   "cell_type": "code",
   "execution_count": 17,
   "metadata": {
    "colab": {
     "base_uri": "https://localhost:8080/"
    },
    "id": "10U3gpEMdQXu",
    "outputId": "f432eb0a-bb1d-4289-ff87-b83bb9e8a8db"
   },
   "outputs": [
    {
     "name": "stdout",
     "output_type": "stream",
     "text": [
      "CPU times: user 52min 35s, sys: 9.97 s, total: 52min 45s\n",
      "Wall time: 52min 46s\n"
     ]
    }
   ],
   "source": [
    "%%time\n",
    "\n",
    "svm_model = LinearSVC(random_state=42,\n",
    "                      dual=True,\n",
    "                      # multi_class='crammer_singer',\n",
    "                      max_iter=10000)\n",
    "\n",
    "svm = OneVsRestClassifier(svm_model) \n",
    "\n",
    "param_grid = {'estimator__C': [1]} # Best parameter selected from range : [1, 5, 10 ,100]\n",
    "\n",
    "svm_gs = GridSearchCV(svm,\n",
    "                      param_grid,\n",
    "                      cv=10,\n",
    "                      scoring='f1_samples')\n",
    "\n",
    "svm_gs.fit(X_train_vectorized, y_train)"
   ]
  },
  {
   "cell_type": "code",
   "execution_count": 18,
   "metadata": {
    "colab": {
     "base_uri": "https://localhost:8080/",
     "height": 81
    },
    "id": "jhiZ2Jn131rq",
    "outputId": "ec62fb75-073b-4710-cac0-2c1b15dabec8"
   },
   "outputs": [
    {
     "data": {
      "text/html": [
       "<div>\n",
       "<style scoped>\n",
       "    .dataframe tbody tr th:only-of-type {\n",
       "        vertical-align: middle;\n",
       "    }\n",
       "\n",
       "    .dataframe tbody tr th {\n",
       "        vertical-align: top;\n",
       "    }\n",
       "\n",
       "    .dataframe thead th {\n",
       "        text-align: right;\n",
       "    }\n",
       "</style>\n",
       "<table border=\"1\" class=\"dataframe\">\n",
       "  <thead>\n",
       "    <tr style=\"text-align: right;\">\n",
       "      <th></th>\n",
       "      <th>accuracy</th>\n",
       "      <th>precision</th>\n",
       "      <th>recall</th>\n",
       "      <th>f1-score</th>\n",
       "      <th>jaccard score</th>\n",
       "    </tr>\n",
       "  </thead>\n",
       "  <tbody>\n",
       "    <tr>\n",
       "      <th>results</th>\n",
       "      <td>30.08</td>\n",
       "      <td>58.94</td>\n",
       "      <td>70.88</td>\n",
       "      <td>61.2</td>\n",
       "      <td>53.52</td>\n",
       "    </tr>\n",
       "  </tbody>\n",
       "</table>\n",
       "</div>"
      ],
      "text/plain": [
       "         accuracy  precision  recall  f1-score  jaccard score\n",
       "results     30.08      58.94   70.88      61.2          53.52"
      ]
     },
     "execution_count": 18,
     "metadata": {
      "tags": []
     },
     "output_type": "execute_result"
    }
   ],
   "source": [
    "y_pred_svm = svm_gs.predict(X_test_vectorized)\n",
    "\n",
    "evaluate_text_classifier(y_pred_svm, y_test)"
   ]
  },
  {
   "cell_type": "code",
   "execution_count": null,
   "metadata": {
    "id": "Ag_eoE7MdQX0"
   },
   "outputs": [],
   "source": [
    "# Plot training curve\n",
    "\n",
    "# plot_validation_curve(svm,\n",
    "#                       X_train_vectorized,\n",
    "#                       y_train,\n",
    "#                       'estimator__C',\n",
    "#                       [1, 5, 10, 100],\n",
    "#                       log_scale=False,\n",
    "#                       scorer='f1_samples')"
   ]
  },
  {
   "cell_type": "code",
   "execution_count": null,
   "metadata": {
    "id": "S4qwxgrXdQX_"
   },
   "outputs": [],
   "source": [
    "# Save SVM model\n",
    "# pickle_data(filename='svm_ovr',\n",
    "#             data=svm_ovr,\n",
    "#             folder='data/models')"
   ]
  },
  {
   "cell_type": "markdown",
   "metadata": {
    "id": "KcgrtmNhdQYF"
   },
   "source": [
    "## 3 - Semi-supervised method (Word2Vec + GRU) <a class=\"anchor\" id=\"second_3\"></a>"
   ]
  },
  {
   "cell_type": "markdown",
   "metadata": {
    "id": "NuHTQuOndQYG"
   },
   "source": [
    "### 3.1 - Word2Vec <a class=\"anchor\" id=\"second_3_1\"></a>"
   ]
  },
  {
   "cell_type": "markdown",
   "metadata": {
    "id": "Q2VPvJztdQYG"
   },
   "source": [
    "#### 3.1.1 - Find optimal dense vector size "
   ]
  },
  {
   "cell_type": "code",
   "execution_count": 19,
   "metadata": {
    "colab": {
     "base_uri": "https://localhost:8080/",
     "height": 81
    },
    "id": "GCHa94ILdQYK",
    "outputId": "8ec9bf5b-9159-47e1-bdc7-781fc0940345"
   },
   "outputs": [
    {
     "data": {
      "text/html": [
       "<div>\n",
       "<style scoped>\n",
       "    .dataframe tbody tr th:only-of-type {\n",
       "        vertical-align: middle;\n",
       "    }\n",
       "\n",
       "    .dataframe tbody tr th {\n",
       "        vertical-align: top;\n",
       "    }\n",
       "\n",
       "    .dataframe thead th {\n",
       "        text-align: right;\n",
       "    }\n",
       "</style>\n",
       "<table border=\"1\" class=\"dataframe\">\n",
       "  <thead>\n",
       "    <tr style=\"text-align: right;\">\n",
       "      <th></th>\n",
       "      <th>count</th>\n",
       "      <th>mean</th>\n",
       "      <th>std</th>\n",
       "      <th>min</th>\n",
       "      <th>25%</th>\n",
       "      <th>50%</th>\n",
       "      <th>75%</th>\n",
       "      <th>max</th>\n",
       "    </tr>\n",
       "  </thead>\n",
       "  <tbody>\n",
       "    <tr>\n",
       "      <th>QuestionTokens</th>\n",
       "      <td>245687</td>\n",
       "      <td>118</td>\n",
       "      <td>139</td>\n",
       "      <td>3</td>\n",
       "      <td>50</td>\n",
       "      <td>82</td>\n",
       "      <td>136</td>\n",
       "      <td>3527</td>\n",
       "    </tr>\n",
       "  </tbody>\n",
       "</table>\n",
       "</div>"
      ],
      "text/plain": [
       "                 count  mean  std  min  25%  50%  75%   max\n",
       "QuestionTokens  245687   118  139    3   50   82  136  3527"
      ]
     },
     "execution_count": 19,
     "metadata": {
      "tags": []
     },
     "output_type": "execute_result"
    }
   ],
   "source": [
    "# Estimate optimal Word2Vec dense vector size \n",
    "corpus_tokens_count = pd.Series(df[tokens_col].map(len)).describe().to_frame().T.astype(int)\n",
    "corpus_tokens_count"
   ]
  },
  {
   "cell_type": "code",
   "execution_count": 20,
   "metadata": {
    "id": "GYK0Yv-0dQYR"
   },
   "outputs": [],
   "source": [
    "# Define Word2Vec dense vector size\n",
    "w2v_dense_vector_size = 100"
   ]
  },
  {
   "cell_type": "markdown",
   "metadata": {
    "id": "elDTOKNEdQYW"
   },
   "source": [
    "#### 3.1.2 - Find optimal window (maximum distance between the target word and its neighboring word)"
   ]
  },
  {
   "cell_type": "code",
   "execution_count": 21,
   "metadata": {
    "colab": {
     "base_uri": "https://localhost:8080/",
     "height": 81
    },
    "id": "PVi29ssLdQYX",
    "outputId": "b498cde6-59f6-478c-ea8d-a904132a8c41"
   },
   "outputs": [
    {
     "data": {
      "text/html": [
       "<div>\n",
       "<style scoped>\n",
       "    .dataframe tbody tr th:only-of-type {\n",
       "        vertical-align: middle;\n",
       "    }\n",
       "\n",
       "    .dataframe tbody tr th {\n",
       "        vertical-align: top;\n",
       "    }\n",
       "\n",
       "    .dataframe thead th {\n",
       "        text-align: right;\n",
       "    }\n",
       "</style>\n",
       "<table border=\"1\" class=\"dataframe\">\n",
       "  <thead>\n",
       "    <tr style=\"text-align: right;\">\n",
       "      <th></th>\n",
       "      <th>count</th>\n",
       "      <th>mean</th>\n",
       "      <th>std</th>\n",
       "      <th>min</th>\n",
       "      <th>25%</th>\n",
       "      <th>50%</th>\n",
       "      <th>75%</th>\n",
       "      <th>max</th>\n",
       "    </tr>\n",
       "  </thead>\n",
       "  <tbody>\n",
       "    <tr>\n",
       "      <th>DomainWordsWindow</th>\n",
       "      <td>245687.0</td>\n",
       "      <td>23.842996</td>\n",
       "      <td>45.247885</td>\n",
       "      <td>0.0</td>\n",
       "      <td>2.0</td>\n",
       "      <td>9.555556</td>\n",
       "      <td>28.624753</td>\n",
       "      <td>1298.17676</td>\n",
       "    </tr>\n",
       "  </tbody>\n",
       "</table>\n",
       "</div>"
      ],
      "text/plain": [
       "                      count       mean  ...        75%         max\n",
       "DomainWordsWindow  245687.0  23.842996  ...  28.624753  1298.17676\n",
       "\n",
       "[1 rows x 8 columns]"
      ]
     },
     "execution_count": 21,
     "metadata": {
      "tags": []
     },
     "output_type": "execute_result"
    }
   ],
   "source": [
    "def compute_domain_words_window(tokens, tags, verbose=False):\n",
    "    indices = [i for i, token in enumerate(tokens) if token in tags]\n",
    "    distances = [abs(c[1] - c[0]) for c in itertools.combinations(indices, 2)]\n",
    "    if len(distances) > 0:\n",
    "        mean_dist = sum(distances) / len(distances)\n",
    "    else:\n",
    "        mean_dist = 0.0\n",
    "    if verbose:\n",
    "        print([tokens[i] for i in indices])\n",
    "        print(distances)\n",
    "    return mean_dist\n",
    "\n",
    "\n",
    "df['DomainWordsWindow'] = df[tokens_col].map(lambda tokens: compute_domain_words_window(tokens, tags))\n",
    "\n",
    "df['DomainWordsWindow'].describe().to_frame().T"
   ]
  },
  {
   "cell_type": "code",
   "execution_count": 22,
   "metadata": {
    "id": "e341FWnmdQYe"
   },
   "outputs": [],
   "source": [
    "# Define Word2Vec dense vector size\n",
    "w2v_window = 10"
   ]
  },
  {
   "cell_type": "markdown",
   "metadata": {
    "id": "b1NufrvzdQYi"
   },
   "source": [
    "#### 3.1.3 - Find optimal minimium frequency count of words"
   ]
  },
  {
   "cell_type": "code",
   "execution_count": 23,
   "metadata": {
    "colab": {
     "base_uri": "https://localhost:8080/"
    },
    "id": "rcPLVGNQdQYj",
    "outputId": "0d835930-0571-4d0a-8d3e-0928fef8e592"
   },
   "outputs": [
    {
     "data": {
      "text/plain": [
       "2"
      ]
     },
     "execution_count": 23,
     "metadata": {
      "tags": []
     },
     "output_type": "execute_result"
    }
   ],
   "source": [
    "# Compute main vocabulary frequency distribution\n",
    "main_vocab_freq_dist = dict(nltk.FreqDist(main_vocabulary))\n",
    "# Build main vocabulary frequency distribution dataframe\n",
    "main_vocab_freq_dist_df = pd.DataFrame({'Words': main_vocab_freq_dist.keys(),\n",
    "                                        'Frequency': main_vocab_freq_dist.values()})\n",
    "# Sort main vocabulary distribution by frequency\n",
    "main_vocab_freq_dist_df = main_vocab_freq_dist_df.sort_values(by='Frequency')\n",
    "# Compute cumulative frequency\n",
    "main_vocab_freq_dist_df['CumulativeFrequency'] = np.round(np.cumsum(main_vocab_freq_dist_df['Frequency']/\n",
    "                                                           main_vocab_freq_dist_df['Frequency'].sum()), 3)\n",
    "# Define threshold (ratio)\n",
    "main_vocab_cumfreq_thr = 0.01 # 0.2\n",
    "# Apply threshold to vocabulary cumulative frequency\n",
    "main_vocab_thr_idx = np.min(np.where(main_vocab_freq_dist_df['CumulativeFrequency'] > main_vocab_cumfreq_thr))\n",
    "# Define Word2Vec minimium frequency count of words\n",
    "w2v_min_count = main_vocab_freq_dist_df.iloc[main_vocab_thr_idx]['Frequency']\n",
    "w2v_min_count"
   ]
  },
  {
   "cell_type": "markdown",
   "metadata": {
    "id": "0VOOSmctdQYo"
   },
   "source": [
    "#### 3.1.4 - Train Word2Vec"
   ]
  },
  {
   "cell_type": "code",
   "execution_count": 24,
   "metadata": {
    "colab": {
     "base_uri": "https://localhost:8080/"
    },
    "id": "0KOJfQIIdQYo",
    "outputId": "bdc4bc7a-3585-4c2e-b55f-d8722a614275"
   },
   "outputs": [
    {
     "name": "stdout",
     "output_type": "stream",
     "text": [
      "Total word vectors : 379 915\n",
      "CPU times: user 4min 5s, sys: 928 ms, total: 4min 6s\n",
      "Wall time: 2min 39s\n"
     ]
    }
   ],
   "source": [
    "%%time\n",
    "\n",
    "# Word2Vec parameter grid \n",
    "\n",
    "WORD2VEC_PARAMS = {# The size of the dense vector to represent each token or word\n",
    "                   'size': w2v_dense_vector_size,\n",
    "                   # The maximum distance between the target word and its neighboring word\n",
    "                   'window': w2v_window,\n",
    "                   # Number of iterations (epochs) over the corpus\n",
    "                   'iter': 1, # (best 1) old : 25\n",
    "                   # Minimium frequency count of words\n",
    "                   'min_count': w2v_min_count,\n",
    "                   # How many threads to use behind the scenes\n",
    "                   'workers': 8\n",
    "                   #'sample': 1e-3,\n",
    "                  }\n",
    "\n",
    "# Input data (tokens)\n",
    "corpus = df[tokens_col].values\n",
    "\n",
    "# Word2Vec model\n",
    "w2v_model = gensim.models.Word2Vec(corpus, **WORD2VEC_PARAMS)\n",
    "\n",
    "# Train Word Embeddings\n",
    "w2v_model.train(corpus,\n",
    "                total_examples=len(corpus),\n",
    "                epochs=w2v_model.epochs)\n",
    "\n",
    "print(\"Total word vectors : {}\".format(read_int_cleaner(len(w2v_model.wv.vocab))))\n",
    "\n",
    "# Save trained embeddings\n",
    "# w2v_model.save('../data/models/stackoverflow_word2vec_embeddings.bin')\n",
    "\n",
    "# Load pre-trained embeddings\n",
    "# w2v_model = gensim.models.word2vec.Word2Vec.load('../data/models/stackoverflow_word2vec_embeddings.bin')"
   ]
  },
  {
   "cell_type": "code",
   "execution_count": 25,
   "metadata": {
    "colab": {
     "base_uri": "https://localhost:8080/"
    },
    "id": "d_EAsIzrdQYu",
    "outputId": "4e5e0d70-12cf-4ccb-8474-76d0321f2bcb"
   },
   "outputs": [
    {
     "name": "stdout",
     "output_type": "stream",
     "text": [
      "python most similar terms : \n",
      "[('packages', 0.6287466883659363), ('line', 0.6179832220077515), ('site', 0.6032133102416992), ('anaconda', 0.5898193717002869), ('numpy', 0.5760607123374939), ('django', 0.5701931715011597), ('venv', 0.563947319984436), ('pythonoperator', 0.561847448348999), ('usr', 0.5513443350791931), ('virtualenv', 0.5512422323226929)]\n",
      "--------------------------------------------------------------------\n",
      "pandas most similar terms : \n",
      "[('dataframe', 0.7531862854957581), ('nambu', 0.7109076976776123), ('numpy', 0.6541777849197388), ('reindex', 0.6527289152145386), ('nans', 0.6469622254371643), ('fillna', 0.6317000985145569), ('rangeindex', 0.6281493902206421), ('panda', 0.6127041578292847), ('iloc', 0.6114979386329651), ('nlargest', 0.6105790138244629)]\n",
      "--------------------------------------------------------------------\n",
      "keras most similar terms : \n",
      "[('tensorflow', 0.7646890878677368), ('resnet', 0.7387967109680176), ('inceptionv', 0.7287541627883911), ('pretrained', 0.7235464453697205), ('autoencoder', 0.7210348844528198), ('tensorboard', 0.717765212059021), ('vgg', 0.711674690246582), ('lstm', 0.7024311423301697), ('autoencoders', 0.7008166313171387), ('mobilenet', 0.7005449533462524)]\n",
      "--------------------------------------------------------------------\n",
      "tensorflow most similar terms : \n",
      "[('keras', 0.7646890878677368), ('tensors', 0.7038859128952026), ('tensor', 0.7002115249633789), ('pytorch', 0.6514663696289062), ('quantize', 0.6446396708488464), ('cudnn', 0.6340136528015137), ('tpu', 0.6248576045036316), ('savedmodel', 0.6236082911491394), ('rfcs', 0.6228017210960388), ('tensorboard', 0.6223771572113037)]\n",
      "--------------------------------------------------------------------\n",
      "django most similar terms : \n",
      "[('frobshop', 0.6312550902366638), ('locmem', 0.6300761103630066), ('queryset', 0.6095665097236633), ('improperlyconfigured', 0.6095598340034485), ('urlresolvers', 0.6089797019958496), ('deferredattribute', 0.6041727662086487), ('sesbackend', 0.5984241962432861), ('srimal', 0.5885045528411865), ('srdc', 0.5828144550323486), ('flask', 0.5763882398605347)]\n",
      "--------------------------------------------------------------------\n",
      "flask most similar terms : \n",
      "[('restplus', 0.7690222859382629), ('restful', 0.6644010543823242), ('socketio', 0.6560736894607544), ('blueprints', 0.6226701736450195), ('miguelgrinberg', 0.6210572123527527), ('gunicorn', 0.6148401498794556), ('sqlalchemy', 0.6113595962524414), ('werkzeug', 0.5890368223190308), ('django', 0.5763882398605347), ('wsgi', 0.5716807842254639)]\n",
      "--------------------------------------------------------------------\n",
      "git most similar terms : \n",
      "[('commits', 0.7709912061691284), ('rebase', 0.738563060760498), ('branch', 0.7263016104698181), ('submodules', 0.7249690890312195), ('gitignore', 0.7161195278167725), ('scm', 0.7112137079238892), ('cloning', 0.7091171741485596), ('branches', 0.7007490396499634), ('svn', 0.6992758512496948), ('lfs', 0.6971423625946045)]\n",
      "--------------------------------------------------------------------\n",
      "api most similar terms : \n",
      "[('endpoint', 0.6655074954032898), ('rest', 0.6500422954559326), ('createeventadapter', 0.6257073879241943), ('authcore', 0.5825397968292236), ('nodeways', 0.5455048084259033), ('bitstamp', 0.5450659394264221), ('chamberlinwebentities', 0.5427941083908081), ('axios', 0.5416998863220215), ('apis', 0.5412835478782654), ('invalidarchiveerror', 0.5348604321479797)]\n",
      "--------------------------------------------------------------------\n",
      "sql most similar terms : \n",
      "[('oracle', 0.6865454912185669), ('postgresql', 0.6855910420417786), ('sqlplus', 0.6827963590621948), ('ssms', 0.6517555713653564), ('prepared', 0.6365864276885986), ('mysql', 0.6322855949401855), ('clause', 0.6303904056549072), ('pgsql', 0.6281301975250244), ('cfsqltype', 0.6256563663482666), ('mysqlscript', 0.6199591159820557)]\n",
      "--------------------------------------------------------------------\n",
      "c most similar terms : \n",
      "[('similarly', 0.5815799832344055), ('waking', 0.5758075714111328), ('r', 0.5644669532775879), ('emojitest', 0.5595680475234985), ('data.table', 0.5515653491020203), ('bunches', 0.5423235297203064), ('hgo', 0.5352571606636047), ('necessarily', 0.5349438190460205), ('lastnanme', 0.5333733558654785), ('technically', 0.5327094793319702)]\n",
      "--------------------------------------------------------------------\n",
      "c++ most similar terms : \n",
      "[('gcc', 0.7275831699371338), ('compilers', 0.6918288469314575), ('pointers', 0.6872379779815674), ('c++11', 0.6764593720436096), ('msvc', 0.6689321398735046), ('guaranteed', 0.6517752408981323), ('destructors', 0.6512621641159058), ('destructor', 0.6504522562026978), ('c++17', 0.642776608467102), ('compiler', 0.6417074203491211)]\n",
      "--------------------------------------------------------------------\n"
     ]
    },
    {
     "name": "stderr",
     "output_type": "stream",
     "text": [
      "/usr/local/lib/python3.6/dist-packages/gensim/matutils.py:737: FutureWarning: Conversion of the second argument of issubdtype from `int` to `np.signedinteger` is deprecated. In future, it will be treated as `np.int64 == np.dtype(int).type`.\n",
      "  if np.issubdtype(vec.dtype, np.int):\n"
     ]
    }
   ],
   "source": [
    "# Testing Word Embeddings\n",
    "w2v_test_tags = ['python',\n",
    "                 'pandas',\n",
    "                 'keras',\n",
    "                 'tensorflow',\n",
    "                 'django',\n",
    "                 'flask',\n",
    "                 'git',\n",
    "                 'api',\n",
    "                 'sql',\n",
    "                 'c',\n",
    "                 'c++']\n",
    "\n",
    "for tag in w2v_test_tags:\n",
    "    print(f'{tag} most similar terms : \\n{w2v_model.wv.most_similar(tag)}')\n",
    "    print('--------------------------------------------------------------------')"
   ]
  },
  {
   "cell_type": "markdown",
   "metadata": {
    "id": "QsYY-NK4dQY3"
   },
   "source": [
    "### 3.2 - GRU <a class=\"anchor\" id=\"second_3_2\"></a>"
   ]
  },
  {
   "cell_type": "markdown",
   "metadata": {
    "id": "YAVl6M1bdQY3"
   },
   "source": [
    "#### 3.2.1 - Preprocessing"
   ]
  },
  {
   "cell_type": "code",
   "execution_count": 26,
   "metadata": {
    "id": "L4V-CaLIsQgy"
   },
   "outputs": [],
   "source": [
    "# Total tags\n",
    "TAGS_SIZE = len(tags)\n",
    "\n",
    "# Preprocessing text\n",
    "ktp = KerasTextPreprocessor(corpus, tokenized=True)\n",
    "# Tokenize corpus\n",
    "ktp.tokenize_corpus(filters='', num_words=len(w2v_model.wv.vocab.keys()))\n",
    "# Preprocess training & testing sets to sequences\n",
    "X_train_padded, X_test_padded = [ktp.text_to_sequences(data, maxlen=w2v_model.vector_size) \n",
    "                                 for data in [X_train, X_test]]"
   ]
  },
  {
   "cell_type": "markdown",
   "metadata": {
    "id": "hcGNAJS8dQZE"
   },
   "source": [
    "#### 3.2.2 - Define metrics"
   ]
  },
  {
   "cell_type": "code",
   "execution_count": 27,
   "metadata": {
    "id": "JDwUzVmeGNLh"
   },
   "outputs": [],
   "source": [
    "# Metrics \n",
    "import keras.backend as K\n",
    "\n",
    "def f1_score(y_true, y_pred):\n",
    "    true_positives = K.sum(K.round(K.clip(y_true * y_pred, 0, 1)))\n",
    "    possible_positives = K.sum(K.round(K.clip(y_true, 0, 1)))\n",
    "    predicted_positives = K.sum(K.round(K.clip(y_pred, 0, 1)))\n",
    "    precision = true_positives / (predicted_positives + K.epsilon())\n",
    "    recall = true_positives / (possible_positives + K.epsilon())\n",
    "    f1_val = 2 * (precision * recall)/(precision + recall + K.epsilon())\n",
    "    return f1_val"
   ]
  },
  {
   "cell_type": "markdown",
   "metadata": {
    "id": "KL_8GBbPdQZM"
   },
   "source": [
    "#### 3.2.3 - Train GRU"
   ]
  },
  {
   "cell_type": "code",
   "execution_count": 28,
   "metadata": {
    "colab": {
     "base_uri": "https://localhost:8080/",
     "height": 639
    },
    "id": "_esd0CQQJNrX",
    "outputId": "1a86c0c6-91dd-4197-a563-922911dd1e06"
   },
   "outputs": [
    {
     "name": "stdout",
     "output_type": "stream",
     "text": [
      "Model: \"sequential\"\n",
      "_________________________________________________________________\n",
      "Layer (type)                 Output Shape              Param #   \n",
      "=================================================================\n",
      "embedding (Embedding)        (None, 100, 100)          37991600  \n",
      "_________________________________________________________________\n",
      "gru (GRU)                    (None, 512)               943104    \n",
      "_________________________________________________________________\n",
      "dense (Dense)                (None, 4096)              2101248   \n",
      "_________________________________________________________________\n",
      "dropout (Dropout)            (None, 4096)              0         \n",
      "_________________________________________________________________\n",
      "dense_1 (Dense)              (None, 4096)              16781312  \n",
      "_________________________________________________________________\n",
      "dropout_1 (Dropout)          (None, 4096)              0         \n",
      "_________________________________________________________________\n",
      "dense_2 (Dense)              (None, 413)               1692061   \n",
      "=================================================================\n",
      "Total params: 59,509,325\n",
      "Trainable params: 21,517,725\n",
      "Non-trainable params: 37,991,600\n",
      "_________________________________________________________________\n",
      "Epoch 1/4\n",
      "6143/6143 [==============================] - 126s 20ms/step - loss: 0.0123 - accuracy: 0.4325 - f1_score: 0.5556 - val_loss: 0.0086 - val_accuracy: 0.4952 - val_f1_score: 0.6718\n",
      "Epoch 2/4\n",
      "6143/6143 [==============================] - 127s 21ms/step - loss: 0.0092 - accuracy: 0.4864 - f1_score: 0.6478 - val_loss: 0.0081 - val_accuracy: 0.5098 - val_f1_score: 0.6925\n",
      "Epoch 3/4\n",
      "6143/6143 [==============================] - 128s 21ms/step - loss: 0.0081 - accuracy: 0.5071 - f1_score: 0.6841 - val_loss: 0.0075 - val_accuracy: 0.5186 - val_f1_score: 0.7116\n",
      "Epoch 4/4\n",
      "6143/6143 [==============================] - 128s 21ms/step - loss: 0.0077 - accuracy: 0.5116 - f1_score: 0.6936 - val_loss: 0.0075 - val_accuracy: 0.5197 - val_f1_score: 0.7135\n",
      "1536/1536 [==============================] - 11s 7ms/step - loss: 0.0075 - accuracy: 0.5197 - f1_score: 0.7135\n"
     ]
    },
    {
     "data": {
      "text/html": [
       "<div>\n",
       "<style scoped>\n",
       "    .dataframe tbody tr th:only-of-type {\n",
       "        vertical-align: middle;\n",
       "    }\n",
       "\n",
       "    .dataframe tbody tr th {\n",
       "        vertical-align: top;\n",
       "    }\n",
       "\n",
       "    .dataframe thead th {\n",
       "        text-align: right;\n",
       "    }\n",
       "</style>\n",
       "<table border=\"1\" class=\"dataframe\">\n",
       "  <thead>\n",
       "    <tr style=\"text-align: right;\">\n",
       "      <th></th>\n",
       "      <th>loss</th>\n",
       "      <th>accuracy</th>\n",
       "      <th>f1_score</th>\n",
       "    </tr>\n",
       "  </thead>\n",
       "  <tbody>\n",
       "    <tr>\n",
       "      <th>questions 2019</th>\n",
       "      <td>0.007465</td>\n",
       "      <td>0.51972</td>\n",
       "      <td>0.713513</td>\n",
       "    </tr>\n",
       "  </tbody>\n",
       "</table>\n",
       "</div>"
      ],
      "text/plain": [
       "                    loss  accuracy  f1_score\n",
       "questions 2019  0.007465   0.51972  0.713513"
      ]
     },
     "execution_count": 28,
     "metadata": {
      "tags": []
     },
     "output_type": "execute_result"
    }
   ],
   "source": [
    "# Add dense layer\n",
    "\n",
    "# Build Model\n",
    "dnn = DNN(tokenizer=ktp.tokenizer, embedding_model=w2v_model, print_summary=True)\n",
    "# Add Word2Vec embeddings\n",
    "dnn.add_embedding_layer()\n",
    "# Add GRU layer\n",
    "dnn.add_GRU_layer(units=512,\n",
    "                  return_sequences=False,\n",
    "                  dropout=0.3,\n",
    "                  recurrent_dropout=0.0)\n",
    "\n",
    "num_neurons = 512*8\n",
    "dnn.add_dense_layer(units=num_neurons, activation='relu')\n",
    "dnn.add_dropout(0.3)\n",
    "dnn.add_dense_layer(units=num_neurons, activation='relu') \n",
    "dnn.add_dropout(0.6)\n",
    "# Target layer\n",
    "dnn.add_dense_layer(units=TAGS_SIZE, activation='sigmoid')\n",
    "\n",
    "dnn.compile_model(loss='binary_crossentropy',\n",
    "                   optimizer=keras.optimizers.Adam(lr=0.0004),\n",
    "                   metrics=['accuracy', f1_score])       \n",
    "\n",
    "dnn_callbacks = [ # Reduce learning rate when a metric has stopped improving.\n",
    "                  # https://www.tensorflow.org/api_docs/python/tf/keras/callbacks/ReduceLROnPlateau\n",
    "                  ReduceLROnPlateau(monitor='val_loss',\n",
    "                                    # number of epochs with no improvement \n",
    "                                    # after which learning rate will be reduced.\n",
    "                                    patience=1),\n",
    "                  ReduceLROnPlateau(monitor='val_accuracy', patience=1),\n",
    "                  ReduceLROnPlateau(monitor='val_f1_score', patience=1),\n",
    "                  # Stop training when a monitored metric has stopped improving.\n",
    "                  # https://www.tensorflow.org/api_docs/python/tf/keras/callbacks/EarlyStopping\n",
    "                  # EarlyStopping(monitor='val_f1_score',  \n",
    "                  #               min_delta=1e-4, # Default accuracy precision\n",
    "                  #               # Number of epochs with no improvement \n",
    "                  #               # after which training will be stopped.\n",
    "                  #               patience=3)\n",
    "                ]\n",
    "\n",
    "dnn.fit(X_train_padded,\n",
    "        y_train,\n",
    "        batch_size=None,\n",
    "        validation_data=(X_test_padded, y_test),\n",
    "        epochs=4,\n",
    "        callbacks=dnn_callbacks,\n",
    "        verbose=1) \n",
    "\n",
    "\n",
    "\n",
    "# Evaluate model \n",
    "gru_2019_results = pd.DataFrame(dnn.evaluate(X_test_padded, y_test, return_dict=True),\n",
    "                                index=['questions 2019'])\n",
    "\n",
    "gru_2019_results\n",
    "\n",
    "# Save model & tokenizer\n",
    "\n",
    "# pickle_data(filename='GRU_tokenizer',\n",
    "#             data=dnn.tokenizer,\n",
    "#             folder='../data/preprocessing',\n",
    "#             method='w')\n",
    "\n",
    "# dnn.model.save('../data/models/stackoverflow_tag_predictor.h5')"
   ]
  },
  {
   "cell_type": "code",
   "execution_count": 29,
   "metadata": {
    "colab": {
     "base_uri": "https://localhost:8080/",
     "height": 295
    },
    "id": "qmEdSDycVwh8",
    "outputId": "b160af2f-b2ef-4686-f67d-666251e1d4b3"
   },
   "outputs": [
    {
     "data": {
      "image/png": "[encoded data removed]",
      "text/plain": [
       "<Figure size 432x288 with 1 Axes>"
      ]
     },
     "metadata": {
      "needs_background": "light",
      "tags": []
     },
     "output_type": "display_data"
    }
   ],
   "source": [
    "# Accuracy score training curve \n",
    "dnn.plot_training_curve(value_type='accuracy')"
   ]
  },
  {
   "cell_type": "code",
   "execution_count": 30,
   "metadata": {
    "colab": {
     "base_uri": "https://localhost:8080/",
     "height": 295
    },
    "id": "IVu3-XOZdQZU",
    "outputId": "31d22072-49c4-4dd0-b066-b07d4db212c6"
   },
   "outputs": [
    {
     "data": {
      "image/png": "[encoded data removed]",
      "text/plain": [
       "<Figure size 432x288 with 1 Axes>"
      ]
     },
     "metadata": {
      "needs_background": "light",
      "tags": []
     },
     "output_type": "display_data"
    }
   ],
   "source": [
    "# F1 score training curve \n",
    "dnn.plot_training_curve(value_type='f1_score')"
   ]
  },
  {
   "cell_type": "code",
   "execution_count": 31,
   "metadata": {
    "colab": {
     "base_uri": "https://localhost:8080/",
     "height": 295
    },
    "id": "lHXu-ozQdQZa",
    "outputId": "97eecd9f-8651-4536-bd1d-e17dc7baee39"
   },
   "outputs": [
    {
     "data": {
      "image/png": "[encoded data removed]",
      "text/plain": [
       "<Figure size 432x288 with 1 Axes>"
      ]
     },
     "metadata": {
      "needs_background": "light",
      "tags": []
     },
     "output_type": "display_data"
    }
   ],
   "source": [
    "# Loss training curve\n",
    "dnn.plot_training_curve(value_type='loss')"
   ]
  },
  {
   "cell_type": "markdown",
   "metadata": {
    "id": "2j3YfWLIdQZh"
   },
   "source": [
    "#### 3.2.4 - Evaluate with 2020 validation dataset\n"
   ]
  },
  {
   "cell_type": "markdown",
   "metadata": {
    "id": "RHvx7mRjdQZl"
   },
   "source": [
    "#### 2020 validation set"
   ]
  },
  {
   "cell_type": "code",
   "execution_count": 32,
   "metadata": {
    "colab": {
     "base_uri": "https://localhost:8080/",
     "height": 98
    },
    "id": "0ebOoKnNi60i",
    "outputId": "fcd07d01-7b66-4dbe-d95c-c3c9e8dc182a"
   },
   "outputs": [
    {
     "name": "stdout",
     "output_type": "stream",
     "text": [
      "Dataframe rows reduced by 10.8 % (198630 -> 177210)\n"
     ]
    },
    {
     "data": {
      "text/html": [
       "<div>\n",
       "<style scoped>\n",
       "    .dataframe tbody tr th:only-of-type {\n",
       "        vertical-align: middle;\n",
       "    }\n",
       "\n",
       "    .dataframe tbody tr th {\n",
       "        vertical-align: top;\n",
       "    }\n",
       "\n",
       "    .dataframe thead th {\n",
       "        text-align: right;\n",
       "    }\n",
       "</style>\n",
       "<table border=\"1\" class=\"dataframe\">\n",
       "  <thead>\n",
       "    <tr style=\"text-align: right;\">\n",
       "      <th></th>\n",
       "      <th>loss</th>\n",
       "      <th>accuracy</th>\n",
       "      <th>f1_score</th>\n",
       "    </tr>\n",
       "  </thead>\n",
       "  <tbody>\n",
       "    <tr>\n",
       "      <th>questions 2020</th>\n",
       "      <td>0.007637</td>\n",
       "      <td>0.509029</td>\n",
       "      <td>0.717707</td>\n",
       "    </tr>\n",
       "  </tbody>\n",
       "</table>\n",
       "</div>"
      ],
      "text/plain": [
       "                    loss  accuracy  f1_score\n",
       "questions 2020  0.007637  0.509029  0.717707"
      ]
     },
     "execution_count": 32,
     "metadata": {
      "tags": []
     },
     "output_type": "execute_result"
    }
   ],
   "source": [
    "df_2020 = pd.read_csv('validation_set_2020.csv',\n",
    "                      converters={col: eval for col in [tokens_col, 'Tags']}) #data/csv/\n",
    "# Preprocess features\n",
    "df_2020[tokens_col] = df_2020[tokens_col].map(lambda tokens: \n",
    "                                              [token for token in tokens if len(token) <= tags_max_length])\n",
    "\n",
    "# Preprocess target\n",
    "\n",
    "# Keep current dataframe state (rows count)\n",
    "original_rows_count_df_2020 = df_2020.shape[0]\n",
    "# Filter questions which have underpopulated classes\n",
    "df_2020 = filter_underpopulated_classes(df_2020, 'Tags')\n",
    "# Estimate data loss\n",
    "get_data_loss(df_2020, original_rows_count_df_2020)\n",
    "# Binarize target\n",
    "target_2020 = multilabel_encoder.fit_transform(df_2020['Tags'])\n",
    "# Preprocess validation sets to sequences\n",
    "X_val_2020 = ktp.text_to_sequences(df_2020[tokens_col], maxlen=w2v_model.vector_size)\n",
    "\n",
    "# Build 2020 evaluation dataframe results \n",
    "gru_2020_results = pd.DataFrame(dnn.evaluate(X_val_2020, target_2020, return_dict=True, verbose=0),\n",
    "                                index=['questions 2020'])\n",
    "gru_2020_results"
   ]
  },
  {
   "cell_type": "code",
   "execution_count": null,
   "metadata": {
    "id": "-OByBejtdQZ-"
   },
   "outputs": [],
   "source": [
    "# gru = keras.models.load_model('../data/models/stackoverflow_tag_predictor.h5', custom_objects={'f1_score': f1_score})"
   ]
  },
  {
   "cell_type": "markdown",
   "metadata": {
    "id": "7PMmXCbrdQaC"
   },
   "source": [
    "# III - Hyperparameters optimization methods <a class=\"anchor\" id=\"third\"></a>"
   ]
  },
  {
   "cell_type": "markdown",
   "metadata": {
    "id": "3ZRfU6iDdQaD"
   },
   "source": [
    "## 1 - Grid search <a class=\"anchor\" id=\"third_1\"></a>"
   ]
  },
  {
   "cell_type": "code",
   "execution_count": null,
   "metadata": {
    "id": "DR7NZSpddQaF"
   },
   "outputs": [],
   "source": [
    "from keras.wrappers.scikit_learn import KerasClassifier\n",
    "\n",
    "\n",
    "def build_text_cls_model(units_dense_layer_1, lstm_dropout_rate=0.2):\n",
    "    model = Sequential()\n",
    "    model.add(Embedding(input_dim=VOCAB_SIZE+1,\n",
    "                        output_dim=WORD2VEC_PARAMS['size'],\n",
    "                        weights=[embedding_matrix],\n",
    "                        input_length=MAX_SEQUENCE_LENGTH,\n",
    "                        trainable=False))\n",
    "    # LSTM\n",
    "    model.add(LSTM(TAGS_SIZE,\n",
    "                   dropout=lstm_dropout_rate,\n",
    "                   recurrent_dropout=recurrent_dropout_rate))\n",
    "    model.add(Dense(units=units_dense_layer_1,\n",
    "                    activation='relu'))\n",
    "    model.add(Dense(TAGS_SIZE,\n",
    "                    activation='sigmoid'))\n",
    "    model.summary()\n",
    "    model.compile(loss='binary_crossentropy',\n",
    "                  optimizer='adam',\n",
    "                  metrics=['accuracy'])\n",
    "    return model\n",
    "\n",
    "\n",
    "lstm_params_grid = {\"lstm_dropout_rate\": [0.2],           \n",
    "                    \"units_dense_layer_1\": [64, 128, 256, 512],               \n",
    "                    \"batch_size\": [None, 64, 128],                         \n",
    "                    \"nb_epoch\": [25]}                   \n",
    "                    \n",
    "lstm_model = KerasClassifier(build_fn=build_text_cls_model, verbose=0)\n",
    "\n",
    "lstm_gs = GridSearchCV(estimator=lstm_model,\n",
    "                       param_grid=lstm_params_grid,\n",
    "                       n_jobs=-1,\n",
    "                       cv=3)\n",
    "\n",
    "lstm_gs.fit(X_train_padded, y_train)\n",
    "\n",
    "# summarize results\n",
    "test_score_means = lstm_gs.cv_results_['mean_test_score']\n",
    "test_score_stds = lstm_gs.cv_results_['std_test_score']\n",
    "params = lstm_gs.cv_results_['params']\n",
    "\n",
    "# Print results\n",
    "print(\"Best accuracy : {} using {}\".format(lstm_gs.best_score_, lstm_gs.best_params_))\n",
    "for mean, std, param in zip(test_score_means, test_score_stds, params):\n",
    "    print(f\"Mean accuracy = {mean} (σ = {std}) with : {param}\")"
   ]
  },
  {
   "cell_type": "markdown",
   "metadata": {
    "id": "Mc9trf6BdQaH"
   },
   "source": [
    "## 2 - Bayesian optimization <a class=\"anchor\" id=\"third_2\"></a>"
   ]
  },
  {
   "cell_type": "code",
   "execution_count": null,
   "metadata": {
    "id": "dkdyVFolSmk2"
   },
   "outputs": [],
   "source": [
    "import optuna\n",
    "from optuna.integration import KerasPruningCallback\n",
    "from keras.backend import clear_session\n",
    "\n",
    "\n",
    "# Optuna objective function\n",
    "def objective(trial):\n",
    "    # Clear clutter from previous Keras session graphs.\n",
    "    clear_session()\n",
    "    # Preprocessing text\n",
    "    ktp = KerasTextPreprocessor(corpus, tokenized=True)\n",
    "    # Tokenize corpus\n",
    "    ktp.tokenize_corpus(filters='', num_words=len(w2v_model.wv.vocab.keys()))\n",
    "    # Preprocess training & testing sets to sequences\n",
    "    X_train_padded, X_test_padded = [ktp.text_to_sequences(data, maxlen=w2v_model.vector_size) \n",
    "                                    for data in [X_train, X_test]]\n",
    "\n",
    "    dnn = DNN(tokenizer=ktp.tokenizer, embedding_model=w2v_model, print_summary=True)\n",
    "    # Add Word2Vec embeddings\n",
    "    dnn.add_embedding_layer()\n",
    "    # embedding_layer_spatial_dropout_rate = trial.suggest_uniform('spatial_dropout_1d', 0.0, 1.0)\n",
    "    # dnn.model.add(keras.layers.SpatialDropout1D(embedding_layer_spatial_dropout_rate))\n",
    "    \n",
    "    # Find best RNN baseline between LSTM & GRU architectures\n",
    "    text_classifier_name = trial.suggest_categorical('classifier', ['LSTM', 'GRU']) \n",
    "    main_layer_num_hidden = trial.suggest_categorical('n_units', [512])\n",
    "    # int(trial.suggest_loguniform('n_units', y_train.shape[1], 512))\n",
    "    main_layer_dropout_rate = trial.suggest_uniform('dropout', 0.0, 1.0)\n",
    "    main_layer_recurrent_dropout_rate = trial.suggest_uniform('recurrent_dropout', 0.0, 1.0)\n",
    "    \n",
    "    if text_classifier_name == 'LSTM':\n",
    "        dnn.model.add(keras.layers.LSTM(units=main_layer_num_hidden,\n",
    "                                        dropout=main_layer_dropout_rate,\n",
    "                                        recurrent_dropout=main_layer_recurrent_dropout_rate))\n",
    "    else:\n",
    "        dnn.model.add(keras.layers.GRU(units=main_layer_num_hidden,\n",
    "                                       dropout=main_layer_dropout_rate,\n",
    "                                       recurrent_dropout=0.0))\n",
    "    # Add hidden layers\n",
    "    n_layers = trial.suggest_int('n_layers', 1, 3)\n",
    "    for i in range(n_layers):\n",
    "        num_hidden = trial.suggest_categorical('n_units_l{}'.format(i+1), [1024*4])\n",
    "        drop_out_rate = trial.suggest_uniform('dropout_rate_l{}'.format(i+1), 0.2, 0.6)\n",
    "        dnn.add_dense_layer(units=num_hidden, activation='relu')\n",
    "        dropout_cond = trial.suggest_categorical('Add_dropout_l{}'.format(i+1), ['Yes', 'No']) \n",
    "        if dropout_cond == 'Yes':\n",
    "          dnn.add_dropout(dropout_rate=drop_out_rate)\n",
    "\n",
    "    dnn.add_dense_layer(units=y_train.shape[1], activation='sigmoid')\n",
    "    # We compile our model with a sampled learning rate.\n",
    "    learning_rate = trial.suggest_loguniform('lr', 1e-5, 1e-1)\n",
    "\n",
    "    dnn.compile_model(loss='binary_crossentropy',\n",
    "                      optimizer=keras.optimizers.Adam(lr=learning_rate),\n",
    "                      metrics=['accuracy', f1_score]) \n",
    "\n",
    "    dnn.model.fit(X_train_padded,\n",
    "                  y_train,\n",
    "                  validation_data=(X_test_padded, y_test),\n",
    "                  batch_size=None,\n",
    "                  callbacks=[KerasPruningCallback(trial, \"val_accuracy\")],\n",
    "                  epochs=3,\n",
    "                  verbose=False) \n",
    "    # Evaluate the model accuracy on the validation set.\n",
    "    score = dnn.model.evaluate(X_test_padded, y_test, verbose=0, return_dict=True)\n",
    "    return score['f1_score']\n",
    "\n",
    "\n",
    "study = optuna.create_study(direction=\"maximize\",\n",
    "                            pruner=optuna.pruners.MedianPruner()\n",
    "                            # study_name='Stack-Overflow-Text-Classifier-Distributed-TPE'\n",
    "                            ) # Distributed Optimization\n",
    "                              # (e.g : https://optuna.readthedocs.io/en/stable/tutorial/004_distributed.html)\n",
    "study.optimize(objective, n_trials=100, n_jobs=3)\n",
    "pruned_trials = [t for t in study.trials if t.state == optuna.trial.TrialState.PRUNED]\n",
    "complete_trials = [t for t in study.trials if t.state == optuna.trial.TrialState.COMPLETE]\n",
    "print(\"Study statistics: \")\n",
    "print(\"  Number of finished trials: \", len(study.trials))\n",
    "print(\"  Number of pruned trials: \", len(pruned_trials))\n",
    "print(\"  Number of complete trials: \", len(complete_trials))\n",
    "print(\"Best trial:\")\n",
    "trial = study.best_trial\n",
    "print(\"  Value: \", trial.value)\n",
    "print(\"  Params: \")\n",
    "for key, value in trial.params.items():\n",
    "  print(\"    {}: {}\".format(key, value))"
   ]
  }
 ],
 "metadata": {
  "accelerator": "GPU",
  "colab": {
   "collapsed_sections": [
    "2j3YfWLIdQZh"
   ],
   "name": "P5_02_modelization.ipynb",
   "provenance": []
  },
  "kernelspec": {
   "display_name": "Python 3",
   "language": "python",
   "name": "python3"
  },
  "language_info": {
   "codemirror_mode": {
    "name": "ipython",
    "version": 3
   },
   "file_extension": ".py",
   "mimetype": "text/x-python",
   "name": "python",
   "nbconvert_exporter": "python",
   "pygments_lexer": "ipython3",
   "version": "3.7.4"
  }
 },
 "nbformat": 4,
 "nbformat_minor": 1
}
